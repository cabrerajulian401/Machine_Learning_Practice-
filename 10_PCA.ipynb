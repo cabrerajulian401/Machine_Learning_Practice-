{
 "cells": [
  {
   "cell_type": "code",
   "execution_count": 1,
   "id": "dd392200-c2f3-4889-bae6-ad24cf530767",
   "metadata": {},
   "outputs": [],
   "source": [
    "import numpy as np\n",
    "import pandas as pd\n",
    "import seaborn as sns\n",
    "import matplotlib.pyplot as plt"
   ]
  },
  {
   "cell_type": "markdown",
   "id": "4ff9b14d-0c77-40c6-93a7-7b4fe554a16f",
   "metadata": {},
   "source": [
    "# Principal Component Analysis (PCA)"
   ]
  },
  {
   "cell_type": "code",
   "execution_count": 4,
   "id": "745dc6f6-6e4c-4297-a0ab-9ad3d1f6d7ad",
   "metadata": {},
   "outputs": [
    {
     "data": {
      "text/html": [
       "<div>\n",
       "<style scoped>\n",
       "    .dataframe tbody tr th:only-of-type {\n",
       "        vertical-align: middle;\n",
       "    }\n",
       "\n",
       "    .dataframe tbody tr th {\n",
       "        vertical-align: top;\n",
       "    }\n",
       "\n",
       "    .dataframe thead th {\n",
       "        text-align: right;\n",
       "    }\n",
       "</style>\n",
       "<table border=\"1\" class=\"dataframe\">\n",
       "  <thead>\n",
       "    <tr style=\"text-align: right;\">\n",
       "      <th></th>\n",
       "      <th>Class label</th>\n",
       "      <th>Alcohol</th>\n",
       "      <th>Malic acid</th>\n",
       "      <th>Ash</th>\n",
       "      <th>Alcalinity of ash</th>\n",
       "      <th>Magnesium</th>\n",
       "      <th>Total phenols</th>\n",
       "      <th>Flavanoids</th>\n",
       "      <th>Nonflavanoid phenols</th>\n",
       "      <th>Proanthocyanins</th>\n",
       "      <th>Color intensity</th>\n",
       "      <th>Hue</th>\n",
       "      <th>OD280/OD315 of diluted wines</th>\n",
       "      <th>Proline</th>\n",
       "    </tr>\n",
       "  </thead>\n",
       "  <tbody>\n",
       "    <tr>\n",
       "      <th>0</th>\n",
       "      <td>1</td>\n",
       "      <td>14.23</td>\n",
       "      <td>1.71</td>\n",
       "      <td>2.43</td>\n",
       "      <td>15.6</td>\n",
       "      <td>127</td>\n",
       "      <td>2.80</td>\n",
       "      <td>3.06</td>\n",
       "      <td>0.28</td>\n",
       "      <td>2.29</td>\n",
       "      <td>5.64</td>\n",
       "      <td>1.04</td>\n",
       "      <td>3.92</td>\n",
       "      <td>1065</td>\n",
       "    </tr>\n",
       "    <tr>\n",
       "      <th>1</th>\n",
       "      <td>1</td>\n",
       "      <td>13.20</td>\n",
       "      <td>1.78</td>\n",
       "      <td>2.14</td>\n",
       "      <td>11.2</td>\n",
       "      <td>100</td>\n",
       "      <td>2.65</td>\n",
       "      <td>2.76</td>\n",
       "      <td>0.26</td>\n",
       "      <td>1.28</td>\n",
       "      <td>4.38</td>\n",
       "      <td>1.05</td>\n",
       "      <td>3.40</td>\n",
       "      <td>1050</td>\n",
       "    </tr>\n",
       "    <tr>\n",
       "      <th>2</th>\n",
       "      <td>1</td>\n",
       "      <td>13.16</td>\n",
       "      <td>2.36</td>\n",
       "      <td>2.67</td>\n",
       "      <td>18.6</td>\n",
       "      <td>101</td>\n",
       "      <td>2.80</td>\n",
       "      <td>3.24</td>\n",
       "      <td>0.30</td>\n",
       "      <td>2.81</td>\n",
       "      <td>5.68</td>\n",
       "      <td>1.03</td>\n",
       "      <td>3.17</td>\n",
       "      <td>1185</td>\n",
       "    </tr>\n",
       "    <tr>\n",
       "      <th>3</th>\n",
       "      <td>1</td>\n",
       "      <td>14.37</td>\n",
       "      <td>1.95</td>\n",
       "      <td>2.50</td>\n",
       "      <td>16.8</td>\n",
       "      <td>113</td>\n",
       "      <td>3.85</td>\n",
       "      <td>3.49</td>\n",
       "      <td>0.24</td>\n",
       "      <td>2.18</td>\n",
       "      <td>7.80</td>\n",
       "      <td>0.86</td>\n",
       "      <td>3.45</td>\n",
       "      <td>1480</td>\n",
       "    </tr>\n",
       "    <tr>\n",
       "      <th>4</th>\n",
       "      <td>1</td>\n",
       "      <td>13.24</td>\n",
       "      <td>2.59</td>\n",
       "      <td>2.87</td>\n",
       "      <td>21.0</td>\n",
       "      <td>118</td>\n",
       "      <td>2.80</td>\n",
       "      <td>2.69</td>\n",
       "      <td>0.39</td>\n",
       "      <td>1.82</td>\n",
       "      <td>4.32</td>\n",
       "      <td>1.04</td>\n",
       "      <td>2.93</td>\n",
       "      <td>735</td>\n",
       "    </tr>\n",
       "  </tbody>\n",
       "</table>\n",
       "</div>"
      ],
      "text/plain": [
       "   Class label  Alcohol  Malic acid   Ash  Alcalinity of ash  Magnesium  \\\n",
       "0            1    14.23        1.71  2.43               15.6        127   \n",
       "1            1    13.20        1.78  2.14               11.2        100   \n",
       "2            1    13.16        2.36  2.67               18.6        101   \n",
       "3            1    14.37        1.95  2.50               16.8        113   \n",
       "4            1    13.24        2.59  2.87               21.0        118   \n",
       "\n",
       "   Total phenols  Flavanoids  Nonflavanoid phenols  Proanthocyanins  \\\n",
       "0           2.80        3.06                  0.28             2.29   \n",
       "1           2.65        2.76                  0.26             1.28   \n",
       "2           2.80        3.24                  0.30             2.81   \n",
       "3           3.85        3.49                  0.24             2.18   \n",
       "4           2.80        2.69                  0.39             1.82   \n",
       "\n",
       "   Color intensity   Hue  OD280/OD315 of diluted wines  Proline  \n",
       "0             5.64  1.04                          3.92     1065  \n",
       "1             4.38  1.05                          3.40     1050  \n",
       "2             5.68  1.03                          3.17     1185  \n",
       "3             7.80  0.86                          3.45     1480  \n",
       "4             4.32  1.04                          2.93      735  "
      ]
     },
     "execution_count": 4,
     "metadata": {},
     "output_type": "execute_result"
    }
   ],
   "source": [
    "import pandas as pd\n",
    "\n",
    "df_wine = pd.read_csv('https://archive.ics.uci.edu/ml/'\n",
    "                      'machine-learning-databases/wine/wine.data',\n",
    "                      header=None)\n",
    "\n",
    "# if the Wine dataset is temporarily unavailable from the\n",
    "# UCI machine learning repository, un-comment the following line\n",
    "# of code to load the dataset from a local path:\n",
    "\n",
    "# df_wine = pd.read_csv('wine.data', header=None)\n",
    "\n",
    "df_wine.columns = ['Class label', 'Alcohol', 'Malic acid', 'Ash',\n",
    "                   'Alcalinity of ash', 'Magnesium', 'Total phenols',\n",
    "                   'Flavanoids', 'Nonflavanoid phenols', 'Proanthocyanins',\n",
    "                   'Color intensity', 'Hue',\n",
    "                   'OD280/OD315 of diluted wines', 'Proline']\n",
    "\n",
    "df_wine.head()"
   ]
  },
  {
   "cell_type": "code",
   "execution_count": 7,
   "id": "d9a65e5f-9e8a-4ab0-b014-3aaeed712a9e",
   "metadata": {},
   "outputs": [
    {
     "data": {
      "text/plain": [
       "(178, 14)"
      ]
     },
     "execution_count": 7,
     "metadata": {},
     "output_type": "execute_result"
    }
   ],
   "source": [
    "df_wine.shape"
   ]
  },
  {
   "cell_type": "markdown",
   "id": "26d63b42-dfa9-4bd7-9dd6-779b9b675f93",
   "metadata": {},
   "source": [
    "Splitting the data into 70% training and 30% test subsets."
   ]
  },
  {
   "cell_type": "code",
   "execution_count": 13,
   "id": "0ec53f6c-3636-4974-a7c1-2218d0dc58b7",
   "metadata": {},
   "outputs": [],
   "source": [
    "from sklearn.model_selection import train_test_split\n",
    "\n",
    "X, Y = df_wine.iloc[:, 1:].values, df_wine.iloc[:, 0].values\n",
    "\n",
    "X_train, X_test, Y_train, Y_test = train_test_split(X, Y, test_size=0.3, random_state=0)"
   ]
  },
  {
   "cell_type": "code",
   "execution_count": 15,
   "id": "ca10d003-6bfb-4db6-b935-705fe2422bef",
   "metadata": {},
   "outputs": [
    {
     "data": {
      "text/plain": [
       "(124, 13)"
      ]
     },
     "execution_count": 15,
     "metadata": {},
     "output_type": "execute_result"
    }
   ],
   "source": [
    "X_train.shape"
   ]
  },
  {
   "cell_type": "code",
   "execution_count": 16,
   "id": "73f02b4d-1da2-4e43-b9bf-6897d98823c3",
   "metadata": {},
   "outputs": [
    {
     "data": {
      "text/plain": [
       "(54, 13)"
      ]
     },
     "execution_count": 16,
     "metadata": {},
     "output_type": "execute_result"
    }
   ],
   "source": [
    "X_test.shape"
   ]
  },
  {
   "attachments": {},
   "cell_type": "markdown",
   "id": "6bc6ce6c-a441-45c5-99a3-35817b24faad",
   "metadata": {},
   "source": [
    "## PCA Step 1: Standardize Data"
   ]
  },
  {
   "cell_type": "code",
   "execution_count": 18,
   "id": "72df52df-0604-4d48-b2d9-ab8b3a142b1e",
   "metadata": {},
   "outputs": [],
   "source": [
    "from sklearn.preprocessing import StandardScaler\n",
    "\n",
    "sc = StandardScaler()\n",
    "X_train_std = sc.fit_transform(X_train)\n",
    "X_test_std = sc.transform(X_test)"
   ]
  },
  {
   "cell_type": "code",
   "execution_count": 21,
   "id": "31d6cfb1-a670-4a0b-bec9-f589eba2fab5",
   "metadata": {},
   "outputs": [
    {
     "data": {
      "text/plain": [
       "array([[ 0.94841977, -0.63042822, -0.4110476 , -0.87677804,  1.22679643,\n",
       "         0.57147571,  0.95620726, -1.24682729,  0.01258759,  0.36299992,\n",
       "        -0.15283642,  0.83141032,  1.01828164],\n",
       "       [-0.24190464,  0.25288364,  0.42452457,  0.69400284,  0.81583896,\n",
       "        -1.30214437, -0.62636631, -1.00437054, -0.59161664,  2.47674005,\n",
       "        -2.02839981, -1.57358081, -0.86722119],\n",
       "       [-0.76815332, -1.10741662, -0.73801062, -0.14748691, -0.89648384,\n",
       "         2.07706327,  1.16173629, -1.40846512,  0.43217386, -0.23482557,\n",
       "         1.1259568 ,  0.37265479, -1.06227321],\n",
       "       [ 0.72288462, -0.57742951,  0.35186612,  0.27325796,  1.08981061,\n",
       "         1.17371073,  0.83288984, -1.3276462 ,  1.40561401,  0.5338072 ,\n",
       "         0.10292223,  0.59508171,  1.21333366],\n",
       "       [ 0.08386836,  3.01764974, -0.8469983 ,  0.55375455, -0.96497675,\n",
       "         0.60493321,  0.69929597, -0.51945706,  0.66714217, -1.02480926,\n",
       "        -0.96273879,  0.69239349, -1.19230789],\n",
       "       [-1.7830615 , -0.29476971,  3.14921644,  2.51723066,  1.29528934,\n",
       "         1.54174325,  3.19647374,  0.85446449,  0.43217386,  0.42705265,\n",
       "        -0.11020997,  1.51259278, -0.9159842 ],\n",
       "       [ 1.34937115, -0.20643853,  0.89680449, -0.54018214,  1.43227517,\n",
       "         0.57147571,  0.55542564, -0.43863814, -0.60840009,  0.02138535,\n",
       "         0.44393375,  1.35967427,  1.78223538],\n",
       "       [-0.78068305,  1.27752538,  0.06123232,  0.41350626, -0.82799093,\n",
       "         0.06961319, -1.07853019,  1.09692124, -0.96085256,  1.13163269,\n",
       "        -1.68738828, -1.4206623 , -0.73718652],\n",
       "       [-0.91851009, -0.57742951, -0.88332752, -0.14748691, -1.37593422,\n",
       "        -1.01775561,  0.06215596,  0.04627535,  0.02937104, -0.68319469,\n",
       "         0.18817511,  0.78970527, -0.76969519],\n",
       "       [-1.13151551, -0.48909832, -0.15674303, -0.28773521, -1.30744131,\n",
       "        -1.10139936, -0.48249598,  1.25855906,  0.04615449, -1.1102129 ,\n",
       "         0.52918664, -0.46144618, -0.86722119],\n",
       "       [ 0.47229001,  0.15571933, -0.04775535,  0.13300967, -0.75949802,\n",
       "        -1.43597437, -1.51014116,  0.04627535, -1.63219059,  0.25624537,\n",
       "        -1.09061811, -0.18341253,  0.10803889],\n",
       "       [ 1.123836  ,  2.34633273, -0.48370605,  0.13300967, -1.37593422,\n",
       "        -2.1385819 , -1.67456439,  0.28873209, -1.56505679, -0.04266738,\n",
       "        -1.6021354 , -1.76820437, -1.07852755],\n",
       "       [ 1.52478738, -0.55093015,  0.3155369 , -1.21337394,  0.81583896,\n",
       "         1.692302  ,  1.45975339, -0.1961814 ,  0.60000837,  0.74731631,\n",
       "         0.40130731,  0.34485142,  2.28611976],\n",
       "       [-0.76815332, -1.16041533, -0.95598597, -0.28773521, -0.82799093,\n",
       "         2.11052077,  1.82970566, -1.00437054,  0.56644147, -0.21347466,\n",
       "         0.35868087,  0.23363796, -0.28206514],\n",
       "       [ 0.74794408,  0.17338557,  1.18743829,  1.39524431,  0.33638858,\n",
       "        -1.18504311, -1.1607418 ,  0.20791318, -0.12168002,  1.56292109,\n",
       "        -0.92011235, -1.11482528,  0.01051288],\n",
       "       [-1.23175335, -1.29291211, -1.31927822, -0.14748691, -0.96497675,\n",
       "         0.2703582 ,  0.29851435, -0.51945706, -0.30629798, -1.06751108,\n",
       "         1.80797986,  0.72019686, -1.52389632],\n",
       "       [ 0.97347923, -0.75409188,  1.22376752, -0.00723862,  2.1856972 ,\n",
       "         1.15698198,  0.79178403,  1.09692124, -0.44056558,  0.17084172,\n",
       "         1.25383613,  0.55337667,  1.58718336],\n",
       "       [ 1.51225764, -0.70109317,  0.42452457, -0.84872838,  0.54186731,\n",
       "         1.74248826,  2.01468179, -0.35781923,  0.41539041,  1.58000181,\n",
       "         1.16858325,  0.30314637,  3.03381916],\n",
       "       [-0.4298506 , -0.90425489, -1.24661977, -0.7645794 , -0.00607598,\n",
       "        -0.39879183, -0.57498405,  1.33937798, -1.66575749,  0.3202981 ,\n",
       "         0.10292223, -1.40676062, -0.9647472 ],\n",
       "       [ 1.06118734, -0.64809445,  0.86047527, -0.65238077, -0.41703346,\n",
       "         0.32054445,  1.04869533, -1.16600837,  1.13707879,  0.25624537,\n",
       "         1.21120969,  1.06773893,  1.68470937],\n",
       "       [ 0.15904674, -1.21341404, -2.40915497, -1.26947326, -1.51292005,\n",
       "         1.20716823,  1.24394791, -0.84273271,  1.12029534,  0.1281399 ,\n",
       "         0.6996924 ,  0.80360696, -0.79570212],\n",
       "       [ 0.08386836, -0.64809445,  0.67882915, -0.4279835 , -0.14306181,\n",
       "         0.32054445,  0.47321403, -0.60027597, -0.28951453, -0.32022922,\n",
       "         0.6996924 , -0.12780579,  1.16457065],\n",
       "       [ 0.32193324,  0.18221869,  1.84136434,  0.41350626,  1.22679643,\n",
       "         0.90605072,  0.74040177,  0.20791318,  0.3482566 , -0.29033794,\n",
       "         0.35868087,  0.45606489, -0.03825012],\n",
       "       [-0.59273709, -0.57742951, -1.39193667,  0.27325796, -1.03346966,\n",
       "        -0.09767432, -0.05088501, -0.35781923, -0.22238072, -0.87962307,\n",
       "         0.35868087,  1.34577259, -0.24305474],\n",
       "       [-0.81827224, -1.13391597, -0.30205993, -0.98897667,  0.06241693,\n",
       "        -0.34860558, -0.90383051,  2.14756713, -2.01820996, -0.73870706,\n",
       "         1.25383613, -1.29554715, -0.2170478 ],\n",
       "       [-0.58020736,  0.04088879, -0.7016814 ,  0.41350626, -0.82799093,\n",
       "         0.48783196,  0.3087908 , -0.84273271, -0.65875045, -1.28102019,\n",
       "        -0.2380893 ,  0.24753964, -1.37110557],\n",
       "       [-0.69297494, -0.75409188, -0.2657307 ,  0.55375455, -0.96497675,\n",
       "         0.80567822,  1.21311855,  0.20791318,  0.26433935, -0.45260486,\n",
       "        -1.13324455,  0.33094974, -1.28333217],\n",
       "       [-1.03127766, -0.68342693, -0.19307225,  0.91840011, -0.6910051 ,\n",
       "        -0.80028185, -0.2872434 ,  0.53118883, -0.08811312, -1.08886199,\n",
       "         1.59484765, -0.47534787, -0.81845819],\n",
       "       [-1.53246689,  0.26171675,  2.02301047,  0.13300967,  0.19940275,\n",
       "        -0.8504681 ,  0.06215596,  1.90511038, -0.94406911, -0.51238741,\n",
       "         1.16858325, -0.14170748, -0.45436109],\n",
       "       [ 0.99853869,  0.3323817 , -0.22940148,  0.69400284, -0.6910051 ,\n",
       "        -1.51961813, -1.32516503,  0.369551  , -0.97763601,  1.95577784,\n",
       "        -1.09061811, -1.28164547, -0.42835416],\n",
       "       [ 0.5098792 , -0.54209703,  0.93313372, -0.96092702, -0.48552637,\n",
       "         0.98969448,  0.99731307, -0.1961814 , -0.27273108, -0.0853692 ,\n",
       "        -0.15283642,  0.85921369,  1.45714868],\n",
       "       [ 1.54984684, -0.60392886, -0.22940148, -0.9048277 ,  1.22679643,\n",
       "         1.57520075,  1.05897178, -0.84273271,  0.70070907,  0.58931957,\n",
       "        -0.06758353,  0.98432883,  0.72570362],\n",
       "       [-1.18163443,  1.69268196,  0.06123232,  0.69400284, -1.37593422,\n",
       "        -0.26496183, -0.22558469,  0.45036992, -0.44056558, -1.02480926,\n",
       "        -0.70698014, -0.0443957 , -0.5421345 ],\n",
       "       [ 1.53731711,  1.46302087,  0.27920767, -0.17553657,  0.74734605,\n",
       "         0.98969448,  0.69929597, -0.51945706, -0.60840009,  0.10251881,\n",
       "        -0.36596862,  1.0121322 ,  1.08329898],\n",
       "       [ 2.3141604 , -0.65692757, -0.7016814 , -1.54996985, -0.21155472,\n",
       "         0.90605072,  1.03841887, -0.60027597,  0.61679182,  0.08543808,\n",
       "         0.52918664,  0.34485142,  0.96951864],\n",
       "       [ 0.08386836, -0.54209703, -0.95598597, -0.70848009,  0.4733744 ,\n",
       "         1.24062574,  1.05897178, -0.68109488,  0.70070907,  0.01711517,\n",
       "        -0.32334218,  1.03993557,  0.44937992],\n",
       "       [ 0.88577112,  0.77403763,  0.64249992,  0.13300967,  0.4733744 ,\n",
       "        -0.71663809, -1.44848245,  1.09692124, -1.36365538,  0.37581046,\n",
       "         0.01766935, -1.08702191, -0.2170478 ],\n",
       "       [-0.36720194, -0.75409188, -0.37471838,  0.32935728, -1.37593422,\n",
       "        -1.46943187, -0.52360179,  1.74347255,  0.01258759, -0.83265107,\n",
       "         0.01766935, -0.75338152, -0.81845819],\n",
       "       [-1.70788312, -0.34776842, -0.30205993, -0.4279835 , -0.14306181,\n",
       "         1.27408324,  0.29851435, -1.57010295, -0.44056558, -0.74724743,\n",
       "         0.87019816,  0.49776993, -1.30608823],\n",
       "       [ 0.52240893,  1.34819033,  0.42452457,  0.97449943,  0.13090984,\n",
       "        -0.76682435, -1.25322986,  0.53118883, -0.33986488,  0.98217632,\n",
       "        -1.09061811, -1.44846566,  0.01051288],\n",
       "       [ 0.64770623, -0.50676456,  0.89680449,  0.13300967, -0.28004763,\n",
       "         0.45437445,  0.65819016, -0.68109488,  0.07972139, -0.63195251,\n",
       "         0.6996924 ,  1.69331466,  0.31934525],\n",
       "       [ 0.93589004, -0.78059123,  1.22376752,  0.83425114,  0.06241693,\n",
       "         1.24062574,  1.31588307, -0.60027597,  1.28812985,  0.29894719,\n",
       "         0.99807748,  0.15022786,  1.74972671],\n",
       "       [-0.86839117,  0.39421353, -0.52003528, -0.4279835 , -0.82799093,\n",
       "         0.32054445,  0.2882379 , -0.92355163,  0.63357527, -1.21696746,\n",
       "         0.82757172,  0.97042715, -1.48488592],\n",
       "       [-0.47996952, -0.92192113, -1.68257047, -0.28773521, -0.82799093,\n",
       "        -1.35233062, -0.62636631, -0.60027597, -0.44056558, -1.08886199,\n",
       "         0.35868087,  0.23363796, -0.6006501 ],\n",
       "       [-1.97100746, -1.45190824,  0.49718302,  0.41350626, -0.82799093,\n",
       "         0.3707307 ,  0.04160305,  0.45036992, -0.28951453, -0.81984052,\n",
       "         0.61443952, -0.40583945, -1.01676107],\n",
       "       [ 0.82312246,  0.63270773,  0.71515837, -1.21337394,  1.08981061,\n",
       "         0.73876322,  1.08980113, -1.57010295,  0.07972139,  0.04273626,\n",
       "         0.01766935,  1.05383725,  0.31934525],\n",
       "       [-0.47996952,  0.06738815, -0.59269372, -0.28773521, -0.41703346,\n",
       "        -1.06794186, -1.34571793,  2.14756713, -1.12868707,  0.89677268,\n",
       "        -0.96273879, -1.4206623 , -0.1682848 ],\n",
       "       [-1.28187228, -1.14274909, -0.22940148,  0.41350626,  0.06241693,\n",
       "         1.87631826,  0.17519693, -1.8933786 ,  0.06293794, -0.76432815,\n",
       "         0.14554867,  0.73409854,  0.45263079],\n",
       "       [-0.91851009,  1.32169098, -0.59269372, -0.28773521,  0.81583896,\n",
       "        -1.46943187, -1.22240051, -0.60027597, -0.79301805,  1.37076289,\n",
       "        -1.30375031, -0.83679162,  0.35185392],\n",
       "       [ 1.65008468, -0.40960025,  1.29642597,  0.13300967,  1.36378226,\n",
       "         0.90605072,  1.2028421 , -0.27700031,  0.60000837,  0.51245629,\n",
       "         0.48656019,  0.06681777,  1.73347237],\n",
       "       [-0.12913706,  0.53554343,  0.13389077,  0.13300967,  0.26789566,\n",
       "        -1.60326188, -0.77023663, -1.00437054, -1.31330503,  0.17084172,\n",
       "        -0.92011235, -1.64308922, -0.70467785],\n",
       "       [ 0.6351765 ,  1.06553054, -0.62902295, -0.00723862, -0.82799093,\n",
       "        -1.06794186, -1.53069406,  1.74347255, -1.22938777,  0.29894719,\n",
       "        -0.62172726, -1.08702191, -0.5421345 ],\n",
       "       [ 0.72288462, -0.59509574, -0.19307225, -0.93287736,  1.15830352,\n",
       "         1.491557  ,  1.35698888, -0.1961814 ,  1.22099605,  0.48256502,\n",
       "        -0.02495709,  1.08164061,  0.1568019 ],\n",
       "       [ 1.7002036 , -0.6215951 ,  1.22376752,  1.5354926 , -0.14306181,\n",
       "         0.90605072, -0.67774857,  1.33937798,  1.82520028,  3.41618011,\n",
       "        -1.64476184, -0.89239835, -0.28206514]])"
      ]
     },
     "execution_count": 21,
     "metadata": {},
     "output_type": "execute_result"
    }
   ],
   "source": [
    "X_test_std"
   ]
  },
  {
   "attachments": {},
   "cell_type": "markdown",
   "id": "7707c2cb-2086-413a-980b-c9327ca3c72e",
   "metadata": {},
   "source": [
    "## PCA Step 2: Find covariance matrix"
   ]
  },
  {
   "cell_type": "code",
   "execution_count": 22,
   "id": "8ab39391-9acf-424f-9a7a-236d39a15013",
   "metadata": {},
   "outputs": [
    {
     "name": "stdout",
     "output_type": "stream",
     "text": [
      "[[ 1.00813008  0.08797701  0.23066952 -0.32868099  0.2141631   0.35576761\n",
      "   0.2991246  -0.16913744  0.09649074  0.56962271 -0.04781543  0.07403492\n",
      "   0.63277882]\n",
      " [ 0.08797701  1.00813008  0.2016416   0.30658143 -0.06030917 -0.30124242\n",
      "  -0.41221162  0.36616593 -0.19190146  0.30749173 -0.54992807 -0.39352761\n",
      "  -0.20253906]\n",
      " [ 0.23066952  0.2016416   1.00813008  0.44971971  0.18321413  0.12235533\n",
      "   0.06130256  0.18655693 -0.02607834  0.24555355 -0.10928021 -0.01820002\n",
      "   0.15948032]\n",
      " [-0.32868099  0.30658143  0.44971971  1.00813008 -0.08930998 -0.37018442\n",
      "  -0.41804463  0.40212108 -0.25765667 -0.03090225 -0.25313262 -0.28934372\n",
      "  -0.48504311]\n",
      " [ 0.2141631  -0.06030917  0.18321413 -0.08930998  1.00813008  0.16513295\n",
      "   0.14458703 -0.30763563  0.27228619  0.1260674   0.05792599  0.01596134\n",
      "   0.31461066]\n",
      " [ 0.35576761 -0.30124242  0.12235533 -0.37018442  0.16513295  1.00813008\n",
      "   0.88119961 -0.45396901  0.6196806  -0.06935051  0.45718802  0.72214462\n",
      "   0.56326772]\n",
      " [ 0.2991246  -0.41221162  0.06130256 -0.41804463  0.14458703  0.88119961\n",
      "   1.00813008 -0.58329952  0.66598997 -0.19183675  0.58331869  0.80205789\n",
      "   0.55759374]\n",
      " [-0.16913744  0.36616593  0.18655693  0.40212108 -0.30763563 -0.45396901\n",
      "  -0.58329952  1.00813008 -0.35394023  0.15451294 -0.3178224  -0.49379349\n",
      "  -0.36456587]\n",
      " [ 0.09649074 -0.19190146 -0.02607834 -0.25765667  0.27228619  0.6196806\n",
      "   0.66598997 -0.35394023  1.00813008 -0.07018068  0.32282167  0.51036557\n",
      "   0.35552117]\n",
      " [ 0.56962271  0.30749173  0.24555355 -0.03090225  0.1260674  -0.06935051\n",
      "  -0.19183675  0.15451294 -0.07018068  1.00813008 -0.52395358 -0.45165752\n",
      "   0.31605457]\n",
      " [-0.04781543 -0.54992807 -0.10928021 -0.25313262  0.05792599  0.45718802\n",
      "   0.58331869 -0.3178224   0.32282167 -0.52395358  1.00813008  0.60022569\n",
      "   0.2452794 ]\n",
      " [ 0.07403492 -0.39352761 -0.01820002 -0.28934372  0.01596134  0.72214462\n",
      "   0.80205789 -0.49379349  0.51036557 -0.45165752  0.60022569  1.00813008\n",
      "   0.32437157]\n",
      " [ 0.63277882 -0.20253906  0.15948032 -0.48504311  0.31461066  0.56326772\n",
      "   0.55759374 -0.36456587  0.35552117  0.31605457  0.2452794   0.32437157\n",
      "   1.00813008]]\n"
     ]
    }
   ],
   "source": [
    "cov_mat = np.cov(X_train_std.T)\n",
    "print(cov_mat)"
   ]
  },
  {
   "cell_type": "code",
   "execution_count": 24,
   "id": "7a809ccf-1723-407b-acf6-42da6ed9eb3a",
   "metadata": {},
   "outputs": [
    {
     "data": {
      "text/plain": [
       "(13, 13)"
      ]
     },
     "execution_count": 24,
     "metadata": {},
     "output_type": "execute_result"
    }
   ],
   "source": [
    "cov_mat.shape"
   ]
  },
  {
   "cell_type": "markdown",
   "id": "30237c58-a884-4f10-bf44-edd31259f2a9",
   "metadata": {},
   "source": [
    "## PCA Step 3: Compute Eigenvectors and Eigenvalues"
   ]
  },
  {
   "cell_type": "code",
   "execution_count": 28,
   "id": "8e8d53ba-ff10-491e-9390-f7a90865e058",
   "metadata": {},
   "outputs": [],
   "source": [
    "eigen_vals, eigen_vecs = np.linalg.eigh(cov_mat)"
   ]
  },
  {
   "cell_type": "code",
   "execution_count": 30,
   "id": "6498dac2-086e-4bfc-b2b6-88aa099d3c0e",
   "metadata": {},
   "outputs": [
    {
     "data": {
      "text/plain": [
       "array([0.08414846, 0.16831254, 0.21432212, 0.2399553 , 0.29595018,\n",
       "       0.33051429, 0.52251546, 0.60181514, 0.84906459, 1.01233462,\n",
       "       1.42809973, 2.46635032, 4.8923083 ])"
      ]
     },
     "execution_count": 30,
     "metadata": {},
     "output_type": "execute_result"
    }
   ],
   "source": [
    "eigen_vals"
   ]
  },
  {
   "cell_type": "code",
   "execution_count": 31,
   "id": "5299397b-60d2-451d-9116-210e5ffa04d6",
   "metadata": {},
   "outputs": [
    {
     "data": {
      "text/plain": [
       "(13, 13)"
      ]
     },
     "execution_count": 31,
     "metadata": {},
     "output_type": "execute_result"
    }
   ],
   "source": [
    "eigen_vecs.shape"
   ]
  },
  {
   "cell_type": "markdown",
   "id": "11696028-c9f7-4916-ae42-512ca5a360de",
   "metadata": {},
   "source": [
    "### Total and explained variance"
   ]
  },
  {
   "cell_type": "code",
   "execution_count": 32,
   "id": "fd8a3373-d387-4841-bdfb-93d501458f08",
   "metadata": {},
   "outputs": [],
   "source": [
    "tot = sum(eigen_vals)\n",
    "var_exp = [(i / tot) for i in sorted(eigen_vals, reverse=True)]\n",
    "cum_var_exp = np.cumsum(var_exp)"
   ]
  },
  {
   "cell_type": "code",
   "execution_count": 33,
   "id": "62c3a18d-940c-46c6-ab04-1ba5ae04fb00",
   "metadata": {},
   "outputs": [
    {
     "data": {
      "text/plain": [
       "array([0.37329648, 0.56148574, 0.67045365, 0.74769754, 0.81248349,\n",
       "       0.85840362, 0.89827298, 0.92349212, 0.94607393, 0.96438317,\n",
       "       0.98073654, 0.99357924, 1.        ])"
      ]
     },
     "execution_count": 33,
     "metadata": {},
     "output_type": "execute_result"
    }
   ],
   "source": [
    "cum_var_exp"
   ]
  },
  {
   "cell_type": "code",
   "execution_count": 34,
   "id": "3ae244c3-5eb4-4bbd-b2eb-d3394ea62c3b",
   "metadata": {},
   "outputs": [
    {
     "data": {
      "image/png": "[encoded data removed]",
      "text/plain": [
       "<Figure size 640x480 with 1 Axes>"
      ]
     },
     "metadata": {},
     "output_type": "display_data"
    }
   ],
   "source": [
    "plt.bar(range(1, 14), var_exp, align='center',\n",
    "        label='Individual explained variance')\n",
    "plt.step(range(1, 14), cum_var_exp, where='mid',\n",
    "         label='Cumulative explained variance')\n",
    "plt.ylabel('Explained variance ratio')\n",
    "plt.xlabel('Eigen values index')\n",
    "plt.legend(loc='best')\n",
    "plt.tight_layout()\n",
    "plt.show()"
   ]
  },
  {
   "cell_type": "markdown",
   "id": "0c1ec251-1cd7-4693-9385-d3107e530c06",
   "metadata": {},
   "source": [
    "## PCA Step 4: Select k Eigenvectors"
   ]
  },
  {
   "cell_type": "code",
   "execution_count": 35,
   "id": "803a993b-ef93-4504-a804-fb6852a3af43",
   "metadata": {},
   "outputs": [],
   "source": [
    "# Make a list of (eigenvalue, eigenvector) tuples\n",
    "eigen_pairs = [(np.abs(eigen_vals[i]), eigen_vecs[:, i])\n",
    "               for i in range(len(eigen_vals))]"
   ]
  },
  {
   "cell_type": "code",
   "execution_count": 36,
   "id": "7cf59225-19e1-4040-9398-25e32565eb5c",
   "metadata": {},
   "outputs": [],
   "source": [
    "# Sort the (eigenvalue, eigenvector) tuples from high to low\n",
    "eigen_pairs.sort(key=lambda k: k[0], reverse=True)"
   ]
  },
  {
   "cell_type": "code",
   "execution_count": 38,
   "id": "ca101266-6f46-4cce-8dfa-d9ef7dc89395",
   "metadata": {},
   "outputs": [
    {
     "name": "stdout",
     "output_type": "stream",
     "text": [
      "Matrix W:\n",
      " [[-0.14669811  0.50417079]\n",
      " [ 0.24224554  0.24216889]\n",
      " [ 0.02993442  0.28698484]\n",
      " [ 0.25519002 -0.06468718]\n",
      " [-0.12079772  0.22995385]\n",
      " [-0.38934455  0.09363991]\n",
      " [-0.42326486  0.01088622]\n",
      " [ 0.30634956  0.01870216]\n",
      " [-0.30572219  0.03040352]\n",
      " [ 0.09869191  0.54527081]\n",
      " [-0.30032535 -0.27924322]\n",
      " [-0.36821154 -0.174365  ]\n",
      " [-0.29259713  0.36315461]]\n"
     ]
    }
   ],
   "source": [
    "W = np.hstack((eigen_pairs[0][1][:, np.newaxis],\n",
    "               eigen_pairs[1][1][:, np.newaxis]))\n",
    "print('Matrix W:\\n', W)"
   ]
  },
  {
   "attachments": {},
   "cell_type": "markdown",
   "id": "9d1c2217-984d-4d19-8f6e-8574b6e97d2f",
   "metadata": {},
   "source": [
    "## PCA Step 5: Compute the transformed data (k Principal Components)"
   ]
  },
  {
   "cell_type": "code",
   "execution_count": 39,
   "id": "3b1d175e-5ce0-4cc2-8d01-ac785f4275ca",
   "metadata": {},
   "outputs": [],
   "source": [
    "X_train_pca = X_train_std.dot(W)"
   ]
  },
  {
   "cell_type": "code",
   "execution_count": 41,
   "id": "b42e7a75-9292-4445-9305-f08a6c811e84",
   "metadata": {},
   "outputs": [
    {
     "data": {
      "image/png": "[encoded data removed]",
      "text/plain": [
       "<Figure size 640x480 with 1 Axes>"
      ]
     },
     "metadata": {},
     "output_type": "display_data"
    }
   ],
   "source": [
    "colors = ['r', 'b', 'g']\n",
    "markers = ['o', 's', '^']\n",
    "\n",
    "for l, c, m in zip(np.unique(Y_train), colors, markers):\n",
    "    plt.scatter(X_train_pca[Y_train == l, 0], \n",
    "                X_train_pca[Y_train == l, 1], \n",
    "                c=c, label=f'Class {l}', marker=m)\n",
    "\n",
    "plt.xlabel('PC 1')\n",
    "plt.ylabel('PC 2')\n",
    "plt.legend(loc='lower left')\n",
    "plt.tight_layout()\n",
    "plt.show()"
   ]
  }
 ],
 "metadata": {
  "kernelspec": {
   "display_name": "Python 3 (ipykernel)",
   "language": "python",
   "name": "python3"
  },
  "language_info": {
   "codemirror_mode": {
    "name": "ipython",
    "version": 3
   },
   "file_extension": ".py",
   "mimetype": "text/x-python",
   "name": "python",
   "nbconvert_exporter": "python",
   "pygments_lexer": "ipython3",
   "version": "3.12.4"
  }
 },
 "nbformat": 4,
 "nbformat_minor": 5
}
