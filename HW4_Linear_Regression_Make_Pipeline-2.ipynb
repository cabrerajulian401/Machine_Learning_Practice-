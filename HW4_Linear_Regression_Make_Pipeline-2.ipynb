{
 "cells": [
  {
   "cell_type": "code",
   "execution_count": 1,
   "id": "6f1e9bd1-2eca-4060-8c4e-6ddcae9add61",
   "metadata": {},
   "outputs": [],
   "source": [
    "import pandas as pd\n",
    "import numpy as np"
   ]
  },
  {
   "cell_type": "markdown",
   "id": "3b53f5aa-a0bd-46bb-9fba-182da5652d12",
   "metadata": {},
   "source": [
    "## README FIRST\n",
    "\n",
    "In this homework you will build a linear regression model on an Insurance Company dataset. Given the features, predict the insurance cost (charges). \n",
    "You need to complete 16 Questions (**Q1** -  **Q16**). **Please answer the question within the same section where the question is asked and indicate your solution for each question in order**. \n",
    "\n",
    "Add your name on the following cell:"
   ]
  },
  {
   "cell_type": "markdown",
   "id": "d18ab4a5-e7af-4c5c-a169-8818e4c385f8",
   "metadata": {},
   "source": [
    "## YOUR NAME: Julian Cabrera "
   ]
  },
  {
   "cell_type": "markdown",
   "id": "7ceecbc3-f3a9-4a50-a52b-43a6bbeaca39",
   "metadata": {},
   "source": [
    "## 1. Loading and explore the Insurance dataset\n",
    "\n",
    "Load the `insurance.csv` file as a dataframe, and then answer the following questions: \n",
    "\n",
    "- **Q1**. How many data points in the dataset? 1338\n",
    "- **Q2**. How many columns in the dataset? 7 \n",
    "- **Q3**. How many categorical variables in the dataset? List the categorical variables: Sex  Smoker & Region\n",
    "- **Q4**. How many numerical variables in the dataset? List the numerical variables Age, bmi, Charges, & Children \n",
    "- **Q5**. Show the descriptive statistics of the numerical columns (e.g.: mean, standard deviation, minimum value, maximum value) -> in Cell Below"
   ]
  },
  {
   "cell_type": "code",
   "execution_count": 2,
   "id": "cae332c2-03da-4074-9447-e8ae3540e589",
   "metadata": {},
   "outputs": [
    {
     "data": {
      "text/plain": [
       "(1338, 7)"
      ]
     },
     "execution_count": 2,
     "metadata": {},
     "output_type": "execute_result"
    }
   ],
   "source": [
    "df = pd.read_csv(\"insurance.csv\")\n",
    "df.shape"
   ]
  },
  {
   "cell_type": "code",
   "execution_count": 3,
   "id": "6063821e-0cc1-4b5c-b25d-e37718255f18",
   "metadata": {},
   "outputs": [
    {
     "data": {
      "text/html": [
       "<div>\n",
       "<style scoped>\n",
       "    .dataframe tbody tr th:only-of-type {\n",
       "        vertical-align: middle;\n",
       "    }\n",
       "\n",
       "    .dataframe tbody tr th {\n",
       "        vertical-align: top;\n",
       "    }\n",
       "\n",
       "    .dataframe thead th {\n",
       "        text-align: right;\n",
       "    }\n",
       "</style>\n",
       "<table border=\"1\" class=\"dataframe\">\n",
       "  <thead>\n",
       "    <tr style=\"text-align: right;\">\n",
       "      <th></th>\n",
       "      <th>age</th>\n",
       "      <th>bmi</th>\n",
       "      <th>children</th>\n",
       "      <th>charges</th>\n",
       "    </tr>\n",
       "  </thead>\n",
       "  <tbody>\n",
       "    <tr>\n",
       "      <th>count</th>\n",
       "      <td>1338.000000</td>\n",
       "      <td>1338.000000</td>\n",
       "      <td>1338.000000</td>\n",
       "      <td>1338.000000</td>\n",
       "    </tr>\n",
       "    <tr>\n",
       "      <th>mean</th>\n",
       "      <td>39.207025</td>\n",
       "      <td>30.663397</td>\n",
       "      <td>1.094918</td>\n",
       "      <td>13270.422265</td>\n",
       "    </tr>\n",
       "    <tr>\n",
       "      <th>std</th>\n",
       "      <td>14.049960</td>\n",
       "      <td>6.098187</td>\n",
       "      <td>1.205493</td>\n",
       "      <td>12110.011237</td>\n",
       "    </tr>\n",
       "    <tr>\n",
       "      <th>min</th>\n",
       "      <td>18.000000</td>\n",
       "      <td>15.960000</td>\n",
       "      <td>0.000000</td>\n",
       "      <td>1121.873900</td>\n",
       "    </tr>\n",
       "    <tr>\n",
       "      <th>25%</th>\n",
       "      <td>27.000000</td>\n",
       "      <td>26.296250</td>\n",
       "      <td>0.000000</td>\n",
       "      <td>4740.287150</td>\n",
       "    </tr>\n",
       "    <tr>\n",
       "      <th>50%</th>\n",
       "      <td>39.000000</td>\n",
       "      <td>30.400000</td>\n",
       "      <td>1.000000</td>\n",
       "      <td>9382.033000</td>\n",
       "    </tr>\n",
       "    <tr>\n",
       "      <th>75%</th>\n",
       "      <td>51.000000</td>\n",
       "      <td>34.693750</td>\n",
       "      <td>2.000000</td>\n",
       "      <td>16639.912515</td>\n",
       "    </tr>\n",
       "    <tr>\n",
       "      <th>max</th>\n",
       "      <td>64.000000</td>\n",
       "      <td>53.130000</td>\n",
       "      <td>5.000000</td>\n",
       "      <td>63770.428010</td>\n",
       "    </tr>\n",
       "  </tbody>\n",
       "</table>\n",
       "</div>"
      ],
      "text/plain": [
       "               age          bmi     children       charges\n",
       "count  1338.000000  1338.000000  1338.000000   1338.000000\n",
       "mean     39.207025    30.663397     1.094918  13270.422265\n",
       "std      14.049960     6.098187     1.205493  12110.011237\n",
       "min      18.000000    15.960000     0.000000   1121.873900\n",
       "25%      27.000000    26.296250     0.000000   4740.287150\n",
       "50%      39.000000    30.400000     1.000000   9382.033000\n",
       "75%      51.000000    34.693750     2.000000  16639.912515\n",
       "max      64.000000    53.130000     5.000000  63770.428010"
      ]
     },
     "execution_count": 3,
     "metadata": {},
     "output_type": "execute_result"
    }
   ],
   "source": [
    "df.describe() # Describing Statistics of Data "
   ]
  },
  {
   "cell_type": "code",
   "execution_count": 4,
   "id": "ae2992b0-c915-4af4-aa76-214097da6fbc",
   "metadata": {},
   "outputs": [
    {
     "data": {
      "text/plain": [
       "Index(['age', 'sex', 'bmi', 'children', 'smoker', 'region', 'charges'], dtype='object')"
      ]
     },
     "execution_count": 4,
     "metadata": {},
     "output_type": "execute_result"
    }
   ],
   "source": [
    "df.columns"
   ]
  },
  {
   "cell_type": "code",
   "execution_count": 5,
   "id": "2d30e7d4-5bef-4345-b0cd-3f146bd90da1",
   "metadata": {},
   "outputs": [
    {
     "data": {
      "text/plain": [
       "<bound method NDFrame.head of       age     sex     bmi  children smoker     region      charges\n",
       "0      19  female  27.900         0    yes  southwest  16884.92400\n",
       "1      18    male  33.770         1     no  southeast   1725.55230\n",
       "2      28    male  33.000         3     no  southeast   4449.46200\n",
       "3      33    male  22.705         0     no  northwest  21984.47061\n",
       "4      32    male  28.880         0     no  northwest   3866.85520\n",
       "...   ...     ...     ...       ...    ...        ...          ...\n",
       "1333   50    male  30.970         3     no  northwest  10600.54830\n",
       "1334   18  female  31.920         0     no  northeast   2205.98080\n",
       "1335   18  female  36.850         0     no  southeast   1629.83350\n",
       "1336   21  female  25.800         0     no  southwest   2007.94500\n",
       "1337   61  female  29.070         0    yes  northwest  29141.36030\n",
       "\n",
       "[1338 rows x 7 columns]>"
      ]
     },
     "execution_count": 5,
     "metadata": {},
     "output_type": "execute_result"
    }
   ],
   "source": [
    "df.head"
   ]
  },
  {
   "cell_type": "markdown",
   "id": "78b61c22-6dc1-45c3-a57a-89eaa259ca96",
   "metadata": {},
   "source": [
    "## 2. Data preprocessing I\n",
    "In this section, you will need to preprocess the dataset so that you can use it to train a linear regression model"
   ]
  },
  {
   "cell_type": "markdown",
   "id": "58bf6435-8863-4a56-b290-d73fd5d3a231",
   "metadata": {},
   "source": [
    "### 2.1 Handling Missing Data\n",
    "- **Q6**. Show if the dataset has any missing data? If so, what is your approach on handling the missing data? If I did I would use Permutation and insert the mean values of the data"
   ]
  },
  {
   "cell_type": "code",
   "execution_count": 6,
   "id": "fd10a664-24b7-4f70-ad80-ead01d70e6d5",
   "metadata": {},
   "outputs": [
    {
     "data": {
      "text/plain": [
       "age         0\n",
       "sex         0\n",
       "bmi         0\n",
       "children    0\n",
       "smoker      0\n",
       "region      0\n",
       "charges     0\n",
       "dtype: int64"
      ]
     },
     "execution_count": 6,
     "metadata": {},
     "output_type": "execute_result"
    }
   ],
   "source": [
    "df.isnull().sum()"
   ]
  },
  {
   "cell_type": "markdown",
   "id": "c79c8c99-555c-4b7c-a5bc-d031861b6bdc",
   "metadata": {},
   "source": [
    "### 2.2 Categorical columns encoding\n",
    "- **Q7**. Linear Regression model requires all features and target to be numerical. Show how you transform each categorical columns into numerical columns. "
   ]
  },
  {
   "cell_type": "code",
   "execution_count": 9,
   "id": "8ed0e127-dad9-4649-9ce2-139966845240",
   "metadata": {},
   "outputs": [
    {
     "name": "stdout",
     "output_type": "stream",
     "text": [
      "   age  sex  bmi  children  smoker  charges  region_northwest  \\\n",
      "0   19    0   27         0       1    16884                 0   \n",
      "1   18    1   33         1       0     1725                 0   \n",
      "2   28    1   33         3       0     4449                 0   \n",
      "3   33    1   22         0       0    21984                 1   \n",
      "4   32    1   28         0       0     3866                 1   \n",
      "\n",
      "   region_southeast  region_southwest  \n",
      "0                 0                 1  \n",
      "1                 1                 0  \n",
      "2                 1                 0  \n",
      "3                 0                 0  \n",
      "4                 0                 0  \n"
     ]
    }
   ],
   "source": [
    "from sklearn.preprocessing import LabelEncoder\n",
    "\n",
    "label_encoder_sex = LabelEncoder()\n",
    "label_encoder_smoker = LabelEncoder()\n",
    "\n",
    "df['sex'] = label_encoder_sex.fit_transform(df['sex'])       \n",
    "df['smoker'] = label_encoder_smoker.fit_transform(df['smoker']) \n",
    "df = pd.get_dummies(df, columns=['region'], drop_first=True).astype(int)\n",
    "\n",
    "\n",
    "print(df.head())\n",
    "\n"
   ]
  },
  {
   "cell_type": "markdown",
   "id": "74543096-9b9b-4212-947c-a903dc600112",
   "metadata": {},
   "source": [
    "- **Q8**. After transforming the categorical data into numerical columns, show the new or updated dataframe"
   ]
  },
  {
   "cell_type": "markdown",
   "id": "53aba3a2-37b5-4fc9-b1b5-0bb033b8beba",
   "metadata": {},
   "source": [
    "### 2.3 Get Predictor Variables (X) and Target Variable (Y)"
   ]
  },
  {
   "cell_type": "markdown",
   "id": "7e380128-b5f5-4089-9fec-17a862cdfb13",
   "metadata": {},
   "source": [
    "- **Q9**. The modified dataframe from the previous section still contains all the predictor variables and target variable together. Show how get the predictor variables, `X`, and the target variable, `Y`. Set `X` and `Y` as numpy arrays. "
   ]
  },
  {
   "cell_type": "code",
   "execution_count": 44,
   "id": "6f8556a8-c58b-4d28-a5c6-d629cca7c6ac",
   "metadata": {},
   "outputs": [],
   "source": [
    "X = df.drop(\"charges\", axis=1).values\n",
    "Y = df[\"charges\"].values"
   ]
  },
  {
   "cell_type": "markdown",
   "id": "dbd839a4-7c20-451d-9e37-654e18da202c",
   "metadata": {},
   "source": [
    "### 2.4 Splitting dataset into training and testing sets."
   ]
  },
  {
   "cell_type": "markdown",
   "id": "add57bee-0394-4983-85e6-dcaa9e4f4e4c",
   "metadata": {},
   "source": [
    "- **Q10**. Split `X` and `Y` into training and testing sets. The training set should have 25% of the dataset. Show the size (shape) of `X_train`, `X_test`, `Y_train`, and `Y_test`.\n"
   ]
  },
  {
   "cell_type": "code",
   "execution_count": 43,
   "id": "2469117f-1e2a-433d-aace-1bbde14f0f6e",
   "metadata": {},
   "outputs": [],
   "source": [
    "from sklearn.model_selection import train_test_split\n",
    "\n",
    "\n",
    "X_train, X_test, Y_train, Y_test = train_test_split(X, Y, train_size=0.25, random_state=1)\n"
   ]
  },
  {
   "cell_type": "markdown",
   "id": "baef9e1a-dfcb-4bb1-8ae4-917a96c6c427",
   "metadata": {},
   "source": [
    "## 3. Data preprocessing II\n",
    "Now, you continue preprocessing the preprocessed dataset from the previous section"
   ]
  },
  {
   "cell_type": "markdown",
   "id": "d5765cef-be4c-4c09-a61c-c41876989fa4",
   "metadata": {},
   "source": [
    "### 3.1 Standardize X_train"
   ]
  },
  {
   "cell_type": "markdown",
   "id": "b1d1c5d3-0aa7-457c-a643-af221115fb51",
   "metadata": {},
   "source": [
    "- **Q11**. Many learning algorithms including linear regression require input features on the same scale for optimal performance.  Show how you standardize `X_train` and save the standardized input features into a variable named `X_train_std`.\n"
   ]
  },
  {
   "cell_type": "code",
   "execution_count": 42,
   "id": "f01e81f5-8504-495a-a2a6-a5f60031be00",
   "metadata": {},
   "outputs": [],
   "source": [
    "from sklearn.preprocessing import StandardScaler\n",
    "\n",
    "scaler = StandardScaler()\n",
    "X_train_std = scaler.fit_transform(X_train)\n"
   ]
  },
  {
   "cell_type": "markdown",
   "id": "5c393ca5-c2cb-40f3-9bd4-5c4e76ce2819",
   "metadata": {},
   "source": [
    "## 4. Train a Linear Regression model"
   ]
  },
  {
   "cell_type": "markdown",
   "id": "7cceff3f-5a02-4635-8a04-99c9470f45ce",
   "metadata": {},
   "source": [
    "Now you are ready to train a linear regression model. You can use the LinearRegressionGD class that we created from scrath, meaning you have to copy that class into this notebook, or use the class from scikit-learn. \n",
    "\n",
    "You can import the LinearRegression class from scikit learn as follows:\n",
    "\n",
    "```from sklearn.linear_model import LinearRegression ```\n",
    "\n",
    "Please refer to this documentation for more details [https://scikit-learn.org/stable/modules/generated/sklearn.linear_model.LinearRegression.html](https://scikit-learn.org/stable/modules/generated/sklearn.linear_model.LinearRegression.html)"
   ]
  },
  {
   "cell_type": "markdown",
   "id": "f537b299-3a9a-4235-85d7-413a11fd712c",
   "metadata": {},
   "source": [
    "- **Q12**. Train a LinearRegression model and then show the mean squared error of the model on the standardized training data."
   ]
  },
  {
   "cell_type": "code",
   "execution_count": 41,
   "id": "96f058b9-5504-47a1-aff5-265e67ae6768",
   "metadata": {},
   "outputs": [
    {
     "name": "stdout",
     "output_type": "stream",
     "text": [
      "Mean Squared Error on Training Data: 36628489.991965264\n"
     ]
    }
   ],
   "source": [
    "from sklearn.linear_model import LinearRegression\n",
    "from sklearn.metrics import mean_squared_error\n",
    "\n",
    "\n",
    "model = LinearRegression()\n",
    "model.fit(X_train_std, Y_train)\n",
    "\n",
    "Y_train_pred = model.predict(X_train_std)\n",
    "\n",
    "train_mse = mean_squared_error(Y_train, Y_train_pred)\n",
    "\n",
    "\n",
    "print(\"Mean Squared Error on Training Data:\", train_mse)"
   ]
  },
  {
   "cell_type": "markdown",
   "id": "56944259-c75d-44e0-b088-719ff1ca30fe",
   "metadata": {},
   "source": [
    "## 5. Evaluate the linear regression model"
   ]
  },
  {
   "cell_type": "markdown",
   "id": "62c11af2-a0b7-49b4-b8c0-05b03f5fd55b",
   "metadata": {},
   "source": [
    "After fitting (training) the linear regression model in the previous section, the next task is to evaluate its performance on the testing set. Since the model is trained using the standardized training data (`X_train_std`), you need to evaluate it using standardized testing set. "
   ]
  },
  {
   "cell_type": "markdown",
   "id": "6041a3cf-81cd-4ac0-9e43-eb50763fe582",
   "metadata": {},
   "source": [
    "- **Q13**. Show how you standardize the testing set based on the standardized training set (Hint: if you use `StandardScaler()`, pass `X_test` as an argument into the `transform` method of the `StandardScaler()` instance that you have fitted in Section 3.1). Save the standardized `X_test` as `X_test_std`"
   ]
  },
  {
   "cell_type": "code",
   "execution_count": 40,
   "id": "3c113f24-775c-4650-8756-0ddcfee50b3c",
   "metadata": {},
   "outputs": [],
   "source": [
    "X_test_std = scaler.transform(X_test)"
   ]
  },
  {
   "cell_type": "markdown",
   "id": "25d6902e-d1f2-461f-be2a-2d6245506bd2",
   "metadata": {},
   "source": [
    "- **Q14**. Predict the target values of the `X_test_std` and show the mean squared error (MSE) of the testing set. Is the MSE of the testing set is better (lower) than the MSE of the training set? The MSE of the testing set is Higher than the MSE of the training set"
   ]
  },
  {
   "cell_type": "code",
   "execution_count": 36,
   "id": "719cb635-7595-4cc9-88c4-dc069ad2bad7",
   "metadata": {},
   "outputs": [
    {
     "name": "stdout",
     "output_type": "stream",
     "text": [
      "Mean Squared Error on Testing Data: 37442767.89971797\n"
     ]
    }
   ],
   "source": [
    "Y_test_pred = model.predict(X_test_std)\n",
    "\n",
    "test_mse = mean_squared_error(Y_test, Y_test_pred)\n",
    "\n",
    "print(\"Mean Squared Error on Testing Data:\", test_mse)"
   ]
  },
  {
   "cell_type": "markdown",
   "id": "5929d013-3510-44ed-a724-54916fa3508c",
   "metadata": {},
   "source": [
    "## 6. Build another linear regression model using the `make_pipeline` function\n",
    "Now that you have fitted and evaluated the first model, its time to create another model. Basically you do not need to repeat Section 1-2. However, use the `make_pipeline` function to streamline Sections 4 and 5 into a single workflow."
   ]
  },
  {
   "cell_type": "markdown",
   "id": "3e46cc6c-89d5-4df6-96da-f619460a4c57",
   "metadata": {},
   "source": [
    "- **Q15**. Show how you create a pipeline model that streamline input feature standardization (e.g. using StandardScaler) and modeling (LinearRegression) into a single workflow. Train (fit) the the pipeline model using `X_train` and show the mean squared error (MSE) achieved by the pipeline model on `X_train`"
   ]
  },
  {
   "cell_type": "code",
   "execution_count": 38,
   "id": "a2023d88-fc81-4bfe-a6df-b7b4c9d3ccd0",
   "metadata": {},
   "outputs": [
    {
     "name": "stdout",
     "output_type": "stream",
     "text": [
      "Mean Squared Error on Training Data: 36628489.991965264\n"
     ]
    }
   ],
   "source": [
    "from sklearn.pipeline import Pipeline\n",
    "from sklearn.preprocessing import StandardScaler\n",
    "from sklearn.linear_model import LinearRegression\n",
    "from sklearn.metrics import mean_squared_error\n",
    "\n",
    "pipeline = Pipeline([\n",
    "    ('scaler', StandardScaler()),          \n",
    "    ('model', LinearRegression())          \n",
    "])\n",
    "\n",
    "pipeline.fit(X_train, Y_train)\n",
    "\n",
    "y_pred = pipeline.predict(X_train)\n",
    "\n",
    "mse = mean_squared_error(Y_train, y_pred)\n",
    "print(\"Mean Squared Error on Training Data:\", mse)\n"
   ]
  },
  {
   "cell_type": "markdown",
   "id": "631d1c0b-9c9f-4ba3-8b66-523904d35103",
   "metadata": {},
   "source": [
    "- **Q16**. Evaluate the fitted pipeline using `X_test`. Show the mean squared error (MSE) achieved by the pipeline model on `X_test`."
   ]
  },
  {
   "cell_type": "code",
   "execution_count": 37,
   "id": "a929d799-cd03-43a8-a773-2488019f1ed1",
   "metadata": {},
   "outputs": [
    {
     "name": "stdout",
     "output_type": "stream",
     "text": [
      "Mean Squared Error on Test Data: 37442767.89971797\n"
     ]
    }
   ],
   "source": [
    "pipeline.fit(X_train, Y_train)\n",
    "\n",
    "y_test_pred = pipeline.predict(X_test)\n",
    "\n",
    "mse_test = mean_squared_error(Y_test, y_test_pred)\n",
    "\n",
    "\n",
    "print(\"Mean Squared Error on Test Data:\", mse_test)\n"
   ]
  }
 ],
 "metadata": {
  "kernelspec": {
   "display_name": "Python 3 (ipykernel)",
   "language": "python",
   "name": "python3"
  },
  "language_info": {
   "codemirror_mode": {
    "name": "ipython",
    "version": 3
   },
   "file_extension": ".py",
   "mimetype": "text/x-python",
   "name": "python",
   "nbconvert_exporter": "python",
   "pygments_lexer": "ipython3",
   "version": "3.12.4"
  }
 },
 "nbformat": 4,
 "nbformat_minor": 5
}
