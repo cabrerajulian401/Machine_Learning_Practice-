{
 "cells": [
  {
   "cell_type": "code",
   "execution_count": 1,
   "id": "409fbf39-6d65-4280-9013-5704e481f397",
   "metadata": {},
   "outputs": [],
   "source": [
    "import pandas as pd\n",
    "import numpy as np\n",
    "import seaborn as sns\n",
    "import matplotlib.pyplot as plt"
   ]
  },
  {
   "cell_type": "markdown",
   "id": "26644a31-6277-4cde-8de0-25a60c064899",
   "metadata": {
    "jp-MarkdownHeadingCollapsed": true
   },
   "source": [
    "## Notes\n",
    "\n",
    "The function ```np.dot()``` in NumPy is used to compute the dot product of two arrays (vectors or matrices). It behaves differently depending on the shape of the inputs.\n",
    "\n",
    "- ```np.dot(a, b)```:\n",
    "    - if ```a``` and ```b``` are 1-d arrays (vectors) → Computes dot product (scalar result).\n",
    "    - if ```a``` is a matrix & ```b``` is a vector → Performs matrix-vector multiplication.\n",
    "    - if ```a``` is a matrix & ```b``` is matrix → Performs matrix multiplication.\n",
    "```\n",
    "import numpy as np\n",
    "\n",
    "a = np.array([1, 2, 3]) # a is vector\n",
    "b = np.array([4, 5, 6]) # b is a vector\n",
    "\n",
    "result = np.dot(a, b)  # Computes 1*4 + 2*5 + 3*6 = 32\n",
    "print(result)  # Output: 32\n",
    "```\n",
    "\n",
    "The function ```np.where()``` in NumPy is a powerful function used for conditional selection and element-wise operations. It can be used in different ways depending on how many arguments are provided.\n",
    "\n",
    "````\n",
    "arr = np.array([10, 20, 30, 40, 50])\n",
    "\n",
    "# If element > 25, replace with 1; otherwise, replace with 0\n",
    "result = np.where(arr > 25, 1, 0)\n",
    "\n",
    "print(result)  \n",
    "# Output: [0 0 1 1 1]\n",
    "```"
   ]
  },
  {
   "cell_type": "markdown",
   "id": "3b113ba8-28b9-4796-b4cc-9892d198889b",
   "metadata": {},
   "source": [
    "## Creating the Perceptron Class"
   ]
  },
  {
   "cell_type": "code",
   "execution_count": 5,
   "id": "9a2957c9-bd4c-4b8f-b68c-c9e26375b511",
   "metadata": {},
   "outputs": [],
   "source": [
    "class Perceptron:\n",
    "    \"\"\"Perceptron classifier.\n",
    "    Parameters\n",
    "    ------------\n",
    "    eta : float\n",
    "        Learning rate (between 0.0 and 1.0)\n",
    "    n_epoch : int\n",
    "        Number of passes over the training dataset.\n",
    "    random_seed : int\n",
    "        Random number generator seed for random weight initialization.\n",
    "\n",
    "    Attributes\n",
    "    -----------\n",
    "    m_features : int\n",
    "        Number of predictor variables/features\n",
    "    w_ : 1d-array \n",
    "        A weights vector of length m_features.\n",
    "    b_ : Scalar\n",
    "        Bias unit after fitting.\n",
    "    errors_ : list\n",
    "        Number of misclassifications in each epoch.\n",
    "    \"\"\"\n",
    "    \n",
    "    def __init__(self, eta=0.1, n_epochs = 50, random_state = 1):\n",
    "        self.eta = 0.1\n",
    "        self.n_epochs = n_epochs\n",
    "        self.random_state = random_state\n",
    "\n",
    "    def net_input(self, x):\n",
    "        \"\"\"\n",
    "        Parameters\n",
    "        ------------\n",
    "        x : 1-d array\n",
    "            An object (data point) represented as a vector of length m_features\n",
    "        \n",
    "        Returns\n",
    "        --------\n",
    "        z : float\n",
    "            A scalar value that represents the linear combination of weights and inputs\n",
    "        \"\"\"\n",
    "        ## TODO: compute z \n",
    "        ## Hint: use np.dot(a, b) + scalar value\n",
    "\n",
    "        z = np.dot(x, self.w_) + self.b_\n",
    "\n",
    "        \n",
    "        return z\n",
    "    \n",
    "    def predict(self, x):\n",
    "        \"\"\"\n",
    "        Predict the class label of an object x\n",
    "        \"\"\"\n",
    "        ##TODO : call the net_input method\n",
    "        z = self.net_input(x)\n",
    "\n",
    "        ## use unit step function to predict the class_label\n",
    "        y_hat = np.where(z >= 0.0, 1, 0)\n",
    "        return y_hat\n",
    "\n",
    "\n",
    "    def fit(self, X, Y):\n",
    "        \"\"\" Fiting the training data\n",
    "        Training the perceptron model with the given dataset. To find the best values for w (weights) and  b  (bias) \n",
    "        so that it correctly classifies all training examples into their respective classes. \n",
    "\n",
    "        Parameters:\n",
    "        X : {array-like}, shape = [n_objects, m_features]\n",
    "            The m by n input feature matrix, where each row is a training example (object), and each column is a feature.\n",
    "            The total number of rows (m_examples) represents the total number of objects .\n",
    "            The total number of columns (n_features) represents the total number of predictor variables.\n",
    "        Y : {array-like}, shape = [n_objects]\n",
    "            Target values or class labels.\n",
    "            i'th value of Y corresponds to i'th row in X\n",
    "        \"\"\"\n",
    "        \n",
    "        # 1) intialize the weights and bias\n",
    "        rgen = np.random.RandomState(self.random_state) # create an instance of random number generator\n",
    "        self.m_features = X.shape[1] # get the number of predictor variables (features)\n",
    "        self.w_ = rgen.normal(loc=0.0, scale=0.01, size=self.m_features) ## an instance attribute for the weights of the Perceptron\n",
    "        self.b_ = np.float64(0.) ## an instance attribute for the bias value\n",
    "\n",
    "        # sanity check\n",
    "        self.errors_ = [] ## logging the number of missclassified data points during training\n",
    "\n",
    "        # 2) update the weights and bias\n",
    "        for _ in range(self.n_epochs): # repeat for n_epochs\n",
    "            num_miss = 0 ## tracking misslabeled xi in each epoch\n",
    "            for xi, yi in zip(X,Y):\n",
    "                # xi represents a single training sample (one row of X)\n",
    "                # yi represents the class label or target value of xi.\n",
    "                \n",
    "                ##TODO: predict the class label of xi\n",
    "\n",
    "                yi_hat = self.predict(xi)\n",
    "\n",
    "                ##TODO: compute the difference between actual and predicted label of xi\n",
    "                diff = yi - yi_hat\n",
    "                num_miss += int(diff != 0.0)\n",
    "                \n",
    "                ##TODO: compute delta weights\n",
    "                delta_w = self.eta * diff * xi \n",
    "\n",
    "                ##TODO: compute delta bias\n",
    "                delta_b = self.eta * diff \n",
    "\n",
    "                ##TODO: update weights\n",
    "                self.w_ = self.w_ + delta_w \n",
    "\n",
    "                ##TODO: update bias\n",
    "                self.b_ = self.b_ + delta_b\n",
    "            \n",
    "            self.errors_.append(num_miss)\n",
    "        return self\n",
    "        "
   ]
  },
  {
   "cell_type": "markdown",
   "id": "a7f2da55-de57-45b4-9d5f-8a2b0f863398",
   "metadata": {},
   "source": [
    "## Training a perceptron model on the Iris dataset"
   ]
  },
  {
   "cell_type": "markdown",
   "id": "979bd9c2-fac4-4806-aae2-b67459b966d2",
   "metadata": {},
   "source": [
    "### Get original iris dataset"
   ]
  },
  {
   "cell_type": "code",
   "execution_count": 6,
   "id": "a5e00809-90b2-4214-ba55-30c7c1b11b51",
   "metadata": {},
   "outputs": [
    {
     "data": {
      "text/html": [
       "<div>\n",
       "<style scoped>\n",
       "    .dataframe tbody tr th:only-of-type {\n",
       "        vertical-align: middle;\n",
       "    }\n",
       "\n",
       "    .dataframe tbody tr th {\n",
       "        vertical-align: top;\n",
       "    }\n",
       "\n",
       "    .dataframe thead th {\n",
       "        text-align: right;\n",
       "    }\n",
       "</style>\n",
       "<table border=\"1\" class=\"dataframe\">\n",
       "  <thead>\n",
       "    <tr style=\"text-align: right;\">\n",
       "      <th></th>\n",
       "      <th>sepal_length</th>\n",
       "      <th>sepal_width</th>\n",
       "      <th>petal_length</th>\n",
       "      <th>petal_width</th>\n",
       "      <th>species</th>\n",
       "    </tr>\n",
       "  </thead>\n",
       "  <tbody>\n",
       "    <tr>\n",
       "      <th>145</th>\n",
       "      <td>6.7</td>\n",
       "      <td>3.0</td>\n",
       "      <td>5.2</td>\n",
       "      <td>2.3</td>\n",
       "      <td>virginica</td>\n",
       "    </tr>\n",
       "    <tr>\n",
       "      <th>146</th>\n",
       "      <td>6.3</td>\n",
       "      <td>2.5</td>\n",
       "      <td>5.0</td>\n",
       "      <td>1.9</td>\n",
       "      <td>virginica</td>\n",
       "    </tr>\n",
       "    <tr>\n",
       "      <th>147</th>\n",
       "      <td>6.5</td>\n",
       "      <td>3.0</td>\n",
       "      <td>5.2</td>\n",
       "      <td>2.0</td>\n",
       "      <td>virginica</td>\n",
       "    </tr>\n",
       "    <tr>\n",
       "      <th>148</th>\n",
       "      <td>6.2</td>\n",
       "      <td>3.4</td>\n",
       "      <td>5.4</td>\n",
       "      <td>2.3</td>\n",
       "      <td>virginica</td>\n",
       "    </tr>\n",
       "    <tr>\n",
       "      <th>149</th>\n",
       "      <td>5.9</td>\n",
       "      <td>3.0</td>\n",
       "      <td>5.1</td>\n",
       "      <td>1.8</td>\n",
       "      <td>virginica</td>\n",
       "    </tr>\n",
       "  </tbody>\n",
       "</table>\n",
       "</div>"
      ],
      "text/plain": [
       "     sepal_length  sepal_width  petal_length  petal_width    species\n",
       "145           6.7          3.0           5.2          2.3  virginica\n",
       "146           6.3          2.5           5.0          1.9  virginica\n",
       "147           6.5          3.0           5.2          2.0  virginica\n",
       "148           6.2          3.4           5.4          2.3  virginica\n",
       "149           5.9          3.0           5.1          1.8  virginica"
      ]
     },
     "execution_count": 6,
     "metadata": {},
     "output_type": "execute_result"
    }
   ],
   "source": [
    "iris = sns.load_dataset('iris')\n",
    "iris.tail()"
   ]
  },
  {
   "cell_type": "markdown",
   "id": "c32a6a28-2885-489d-9095-aeaebead9e63",
   "metadata": {},
   "source": [
    "### Slicing the iris data set for binary classification\n",
    "Originally, the iris dataset has 3 unique labels: Setosa, VersiColor, and Virginica. \n",
    "However, to show the binary classification, we only use two labels: Setosa and VersiColor. We will also use two features: petal_length and sepal_length"
   ]
  },
  {
   "cell_type": "code",
   "execution_count": 7,
   "id": "cfdde25d-9fe1-48cf-a310-740dfeb10d38",
   "metadata": {},
   "outputs": [
    {
     "data": {
      "text/html": [
       "<div>\n",
       "<style scoped>\n",
       "    .dataframe tbody tr th:only-of-type {\n",
       "        vertical-align: middle;\n",
       "    }\n",
       "\n",
       "    .dataframe tbody tr th {\n",
       "        vertical-align: top;\n",
       "    }\n",
       "\n",
       "    .dataframe thead th {\n",
       "        text-align: right;\n",
       "    }\n",
       "</style>\n",
       "<table border=\"1\" class=\"dataframe\">\n",
       "  <thead>\n",
       "    <tr style=\"text-align: right;\">\n",
       "      <th></th>\n",
       "      <th>sepal_length</th>\n",
       "      <th>petal_length</th>\n",
       "      <th>species</th>\n",
       "    </tr>\n",
       "  </thead>\n",
       "  <tbody>\n",
       "    <tr>\n",
       "      <th>94</th>\n",
       "      <td>5.6</td>\n",
       "      <td>4.2</td>\n",
       "      <td>versicolor</td>\n",
       "    </tr>\n",
       "    <tr>\n",
       "      <th>95</th>\n",
       "      <td>5.7</td>\n",
       "      <td>4.2</td>\n",
       "      <td>versicolor</td>\n",
       "    </tr>\n",
       "    <tr>\n",
       "      <th>96</th>\n",
       "      <td>5.7</td>\n",
       "      <td>4.2</td>\n",
       "      <td>versicolor</td>\n",
       "    </tr>\n",
       "    <tr>\n",
       "      <th>97</th>\n",
       "      <td>6.2</td>\n",
       "      <td>4.3</td>\n",
       "      <td>versicolor</td>\n",
       "    </tr>\n",
       "    <tr>\n",
       "      <th>98</th>\n",
       "      <td>5.1</td>\n",
       "      <td>3.0</td>\n",
       "      <td>versicolor</td>\n",
       "    </tr>\n",
       "  </tbody>\n",
       "</table>\n",
       "</div>"
      ],
      "text/plain": [
       "    sepal_length  petal_length     species\n",
       "94           5.6           4.2  versicolor\n",
       "95           5.7           4.2  versicolor\n",
       "96           5.7           4.2  versicolor\n",
       "97           6.2           4.3  versicolor\n",
       "98           5.1           3.0  versicolor"
      ]
     },
     "execution_count": 7,
     "metadata": {},
     "output_type": "execute_result"
    }
   ],
   "source": [
    "df = iris.iloc[0:99, [0, 2, 4]]\n",
    "df.tail()"
   ]
  },
  {
   "cell_type": "code",
   "execution_count": 8,
   "id": "8cfac517-6d2f-4a2c-837c-fdffe0bb0f10",
   "metadata": {},
   "outputs": [
    {
     "data": {
      "text/plain": [
       "array(['setosa', 'versicolor'], dtype=object)"
      ]
     },
     "execution_count": 8,
     "metadata": {},
     "output_type": "execute_result"
    }
   ],
   "source": [
    "np.unique(df['species'])"
   ]
  },
  {
   "cell_type": "code",
   "execution_count": 9,
   "id": "401207d1-0ca2-43b0-bf9c-8f9fefffbcb4",
   "metadata": {},
   "outputs": [
    {
     "data": {
      "text/plain": [
       "(99, 3)"
      ]
     },
     "execution_count": 9,
     "metadata": {},
     "output_type": "execute_result"
    }
   ],
   "source": [
    "df.shape"
   ]
  },
  {
   "cell_type": "code",
   "execution_count": 10,
   "id": "bf71a0ec-6f7c-44a1-ab63-a7245b71e1b1",
   "metadata": {},
   "outputs": [
    {
     "data": {
      "text/plain": [
       "Index(['sepal_length', 'petal_length', 'species'], dtype='object')"
      ]
     },
     "execution_count": 10,
     "metadata": {},
     "output_type": "execute_result"
    }
   ],
   "source": [
    "df.columns"
   ]
  },
  {
   "cell_type": "code",
   "execution_count": 11,
   "id": "75f8068e-de1d-42fd-adb2-652a5c8857a7",
   "metadata": {},
   "outputs": [
    {
     "data": {
      "image/png": "[encoded data removed]",
      "text/plain": [
       "<Figure size 617.75x500 with 6 Axes>"
      ]
     },
     "metadata": {},
     "output_type": "display_data"
    }
   ],
   "source": [
    "sns.pairplot(df, hue='species')\n",
    "plt.show()"
   ]
  },
  {
   "cell_type": "code",
   "execution_count": null,
   "id": "0f13b68d-37eb-4f34-87e1-b5574e518ea1",
   "metadata": {},
   "outputs": [],
   "source": []
  },
  {
   "cell_type": "markdown",
   "id": "e5a38a7b-b657-4134-a1ce-dae648f4cf52",
   "metadata": {},
   "source": [
    "### Transform the species column (class label) into numerical values"
   ]
  },
  {
   "cell_type": "code",
   "execution_count": 12,
   "id": "43098e7a-868f-4d61-9063-8be4e4a9d1c6",
   "metadata": {},
   "outputs": [
    {
     "name": "stdout",
     "output_type": "stream",
     "text": [
      "class_mapping = {'setosa': 0, 'versicolor': 1}\n"
     ]
    },
    {
     "data": {
      "text/html": [
       "<div>\n",
       "<style scoped>\n",
       "    .dataframe tbody tr th:only-of-type {\n",
       "        vertical-align: middle;\n",
       "    }\n",
       "\n",
       "    .dataframe tbody tr th {\n",
       "        vertical-align: top;\n",
       "    }\n",
       "\n",
       "    .dataframe thead th {\n",
       "        text-align: right;\n",
       "    }\n",
       "</style>\n",
       "<table border=\"1\" class=\"dataframe\">\n",
       "  <thead>\n",
       "    <tr style=\"text-align: right;\">\n",
       "      <th></th>\n",
       "      <th>sepal_length</th>\n",
       "      <th>petal_length</th>\n",
       "      <th>species</th>\n",
       "    </tr>\n",
       "  </thead>\n",
       "  <tbody>\n",
       "    <tr>\n",
       "      <th>0</th>\n",
       "      <td>5.1</td>\n",
       "      <td>1.4</td>\n",
       "      <td>0</td>\n",
       "    </tr>\n",
       "    <tr>\n",
       "      <th>1</th>\n",
       "      <td>4.9</td>\n",
       "      <td>1.4</td>\n",
       "      <td>0</td>\n",
       "    </tr>\n",
       "    <tr>\n",
       "      <th>2</th>\n",
       "      <td>4.7</td>\n",
       "      <td>1.3</td>\n",
       "      <td>0</td>\n",
       "    </tr>\n",
       "    <tr>\n",
       "      <th>3</th>\n",
       "      <td>4.6</td>\n",
       "      <td>1.5</td>\n",
       "      <td>0</td>\n",
       "    </tr>\n",
       "    <tr>\n",
       "      <th>4</th>\n",
       "      <td>5.0</td>\n",
       "      <td>1.4</td>\n",
       "      <td>0</td>\n",
       "    </tr>\n",
       "    <tr>\n",
       "      <th>...</th>\n",
       "      <td>...</td>\n",
       "      <td>...</td>\n",
       "      <td>...</td>\n",
       "    </tr>\n",
       "    <tr>\n",
       "      <th>94</th>\n",
       "      <td>5.6</td>\n",
       "      <td>4.2</td>\n",
       "      <td>1</td>\n",
       "    </tr>\n",
       "    <tr>\n",
       "      <th>95</th>\n",
       "      <td>5.7</td>\n",
       "      <td>4.2</td>\n",
       "      <td>1</td>\n",
       "    </tr>\n",
       "    <tr>\n",
       "      <th>96</th>\n",
       "      <td>5.7</td>\n",
       "      <td>4.2</td>\n",
       "      <td>1</td>\n",
       "    </tr>\n",
       "    <tr>\n",
       "      <th>97</th>\n",
       "      <td>6.2</td>\n",
       "      <td>4.3</td>\n",
       "      <td>1</td>\n",
       "    </tr>\n",
       "    <tr>\n",
       "      <th>98</th>\n",
       "      <td>5.1</td>\n",
       "      <td>3.0</td>\n",
       "      <td>1</td>\n",
       "    </tr>\n",
       "  </tbody>\n",
       "</table>\n",
       "<p>99 rows × 3 columns</p>\n",
       "</div>"
      ],
      "text/plain": [
       "    sepal_length  petal_length  species\n",
       "0            5.1           1.4        0\n",
       "1            4.9           1.4        0\n",
       "2            4.7           1.3        0\n",
       "3            4.6           1.5        0\n",
       "4            5.0           1.4        0\n",
       "..           ...           ...      ...\n",
       "94           5.6           4.2        1\n",
       "95           5.7           4.2        1\n",
       "96           5.7           4.2        1\n",
       "97           6.2           4.3        1\n",
       "98           5.1           3.0        1\n",
       "\n",
       "[99 rows x 3 columns]"
      ]
     },
     "execution_count": 12,
     "metadata": {},
     "output_type": "execute_result"
    }
   ],
   "source": [
    "# create a mapping dict\n",
    "# to convert class labels from strings to integers\n",
    "class_mapping = {label: idx for idx, label in enumerate(np.unique(df['species']))}\n",
    "print(f'class_mapping = {class_mapping}')\n",
    "\n",
    "# convert class labels from strings to integers\n",
    "df['species'] = df['species'].map(class_mapping)\n",
    "df"
   ]
  },
  {
   "cell_type": "markdown",
   "id": "5f348042-0ee1-4cae-bf01-f20a7bf91d0d",
   "metadata": {},
   "source": [
    "### Splitting Dataset: Training and Testing Set"
   ]
  },
  {
   "cell_type": "code",
   "execution_count": 13,
   "id": "7a34f921-5490-4cf6-aa08-01f30e98e26d",
   "metadata": {},
   "outputs": [
    {
     "name": "stdout",
     "output_type": "stream",
     "text": [
      "Training data shape (X_train): (79, 2)\n",
      "Testing data shape (X_test): (20, 2)\n",
      "type(X_train): <class 'pandas.core.frame.DataFrame'>\n",
      "type(Y_train): <class 'pandas.core.series.Series'>\n",
      "type(X_test): <class 'pandas.core.frame.DataFrame'>\n",
      "type(Y_test): <class 'pandas.core.series.Series'>\n"
     ]
    }
   ],
   "source": [
    "from sklearn.model_selection import train_test_split\n",
    "\n",
    "# Split df into features (X) and labels (y)\n",
    "X = df[['sepal_length', 'petal_length']]  # Features (first two columns)\n",
    "Y = df['species']  # Target label (last column)\n",
    "\n",
    "# Split the dataset into training and testing sets\n",
    "# test_size=0.2 means 80% training, 20% testing\n",
    "X_train, X_test, Y_train, Y_test = train_test_split(X, Y, test_size=0.2, random_state=42)\n",
    "\n",
    "# Display the shape and date type of the splits\n",
    "print(f\"Training data shape (X_train): {X_train.shape}\")\n",
    "print(f\"Testing data shape (X_test): {X_test.shape}\")\n",
    "print(f'type(X_train): {type(X_train)}')\n",
    "print(f'type(Y_train): {type(Y_train)}')\n",
    "print(f'type(X_test): {type(X_test)}')\n",
    "print(f'type(Y_test): {type(Y_test)}')"
   ]
  },
  {
   "cell_type": "markdown",
   "id": "9c3c0e10-1389-468d-8a8e-00e43ce56e98",
   "metadata": {},
   "source": [
    "### Train the Perceptron model"
   ]
  },
  {
   "cell_type": "code",
   "execution_count": 15,
   "id": "e67fdcd5-1923-4462-91dd-d84a3e82aa20",
   "metadata": {},
   "outputs": [],
   "source": [
    "perceptron_model = Perceptron(eta = 0.01, n_epochs=10 , random_state = 2 )\n",
    "perceptron_model = perceptron_model.fit(X_train.values, Y_train.values)"
   ]
  },
  {
   "cell_type": "code",
   "execution_count": 16,
   "id": "6c54e05d-53bd-4dab-9d67-a84d2215e440",
   "metadata": {},
   "outputs": [
    {
     "data": {
      "text/plain": [
       "Text(0.5, 1.0, 'Number of missclassified data points during the training (fitting)')"
      ]
     },
     "execution_count": 16,
     "metadata": {},
     "output_type": "execute_result"
    },
    {
     "data": {
      "image/png": "[encoded data removed]",
      "text/plain": [
       "<Figure size 800x500 with 1 Axes>"
      ]
     },
     "metadata": {},
     "output_type": "display_data"
    }
   ],
   "source": [
    "plt.figure(figsize=(8,5))\n",
    "plt.plot(range(1, len(perceptron_model.errors_) + 1), perceptron_model.errors_, marker='o')\n",
    "plt.xlabel('Epochs')\n",
    "plt.ylabel('Number of errors')\n",
    "plt.title('Number of missclassified data points during the training (fitting)')"
   ]
  },
  {
   "cell_type": "markdown",
   "id": "dd548210-3b0f-4818-8044-e62b83da0e2d",
   "metadata": {},
   "source": [
    "### Predict the class label of data points in testing set"
   ]
  },
  {
   "cell_type": "code",
   "execution_count": 17,
   "id": "f736b536-09db-44a8-a040-481d4523aa07",
   "metadata": {},
   "outputs": [
    {
     "name": "stdout",
     "output_type": "stream",
     "text": [
      "Are the predicted and actual label of testing set equal?\n",
      "[np.True_, np.True_, np.True_, np.True_, np.True_, np.True_, np.True_, np.True_, np.True_, np.True_, np.True_, np.True_, np.True_, np.True_, np.True_, np.True_, np.True_, np.True_, np.True_, np.True_]\n",
      "Accuracy of the testing set: 100.00%\n"
     ]
    }
   ],
   "source": [
    "from sklearn.metrics import accuracy_score\n",
    "\n",
    "Y_test_hats = []\n",
    "for xi in X_test.values:\n",
    "    y_hat = perceptron_model.predict(xi)\n",
    "    Y_test_hats.append(y_hat)\n",
    "\n",
    "## compare the predicted and actual label of testing set\n",
    "equal = [ y_hat == y for y_hat, y in zip(Y_test_hats, Y_test)]\n",
    "print(\"Are the predicted and actual label of testing set equal?\")\n",
    "print(equal)\n",
    "\n",
    "# Calculate accuracy\n",
    "accuracy = accuracy_score(np.array(Y_test_hats), Y_test.values)\n",
    "print(f\"Accuracy of the testing set: {accuracy * 100:.2f}%\")  # Display accuracy"
   ]
  },
  {
   "cell_type": "markdown",
   "id": "fd8764c4-6cae-42f1-9775-7bde809a1609",
   "metadata": {},
   "source": [
    "### A function for plotting decision regions\n",
    "This function is from https://github.com/rasbt/machine-learning-book"
   ]
  },
  {
   "cell_type": "code",
   "execution_count": 18,
   "id": "389c0e56-e604-4f64-8ed9-936a35e37e4b",
   "metadata": {},
   "outputs": [],
   "source": [
    "from matplotlib.colors import ListedColormap\n",
    "\n",
    "def plot_decision_regions(X, Y, classifier, resolution=0.02):\n",
    "\n",
    "    # setup marker generator and color map\n",
    "    markers = ('o', 's', '^', 'v', '<')\n",
    "    colors = ('red', 'blue', 'lightgreen', 'gray', 'cyan')\n",
    "    cmap = ListedColormap(colors[:len(np.unique(Y))])\n",
    "\n",
    "    # plot the decision surface\n",
    "    x1_min, x1_max = X[:, 0].min() - 1, X[:, 0].max() + 1\n",
    "    x2_min, x2_max = X[:, 1].min() - 1, X[:, 1].max() + 1\n",
    "    xx1, xx2 = np.meshgrid(np.arange(x1_min, x1_max, resolution),\n",
    "                           np.arange(x2_min, x2_max, resolution))\n",
    "    lab = classifier.predict(np.array([xx1.ravel(), xx2.ravel()]).T)\n",
    "    lab = lab.reshape(xx1.shape)\n",
    "    plt.contourf(xx1, xx2, lab, alpha=0.3, cmap=cmap)\n",
    "    plt.xlim(xx1.min(), xx1.max())\n",
    "    plt.ylim(xx2.min(), xx2.max())\n",
    "\n",
    "    # plot class examples\n",
    "    for idx, cl in enumerate(np.unique(Y)):\n",
    "        plt.scatter(x=X[Y == cl, 0], \n",
    "                    y=X[Y == cl, 1],\n",
    "                    alpha=0.8, \n",
    "                    c=colors[idx],\n",
    "                    marker=markers[idx], \n",
    "                    label=f'Class {cl}', \n",
    "                    edgecolor='black')"
   ]
  },
  {
   "cell_type": "code",
   "execution_count": 19,
   "id": "662c6c56-1d2e-4597-930e-82285232da6b",
   "metadata": {},
   "outputs": [
    {
     "data": {
      "image/png": "[encoded data removed]",
      "text/plain": [
       "<Figure size 640x480 with 1 Axes>"
      ]
     },
     "metadata": {},
     "output_type": "display_data"
    }
   ],
   "source": [
    "plot_decision_regions(X_train.values, Y_train.values, classifier=perceptron_model)\n",
    "plt.xlabel('Sepal length [cm]')\n",
    "plt.ylabel('Petal length [cm]')\n",
    "plt.legend(loc='upper left')\n",
    "#plt.savefig('images/02_08.png', dpi=300)\n",
    "plt.show()"
   ]
  }
 ],
 "metadata": {
  "kernelspec": {
   "display_name": "Python 3 (ipykernel)",
   "language": "python",
   "name": "python3"
  },
  "language_info": {
   "codemirror_mode": {
    "name": "ipython",
    "version": 3
   },
   "file_extension": ".py",
   "mimetype": "text/x-python",
   "name": "python",
   "nbconvert_exporter": "python",
   "pygments_lexer": "ipython3",
   "version": "3.12.4"
  }
 },
 "nbformat": 4,
 "nbformat_minor": 5
}
