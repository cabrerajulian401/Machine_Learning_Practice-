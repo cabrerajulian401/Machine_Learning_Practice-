{
 "cells": [
  {
   "cell_type": "code",
   "execution_count": null,
   "id": "6f1e9bd1-2eca-4060-8c4e-6ddcae9add61",
   "metadata": {},
   "outputs": [],
   "source": [
    "import pandas as pd\n",
    "import numpy as np"
   ]
  },
  {
   "cell_type": "markdown",
   "id": "3b53f5aa-a0bd-46bb-9fba-182da5652d12",
   "metadata": {},
   "source": [
    "## README FIRST\n",
    "\n",
    "In this homework you will build a linear regression model on an Insurance Company dataset. Given the features, predict the insurance cost (charges). \n",
    "You need to complete 16 Questions (**Q1** -  **Q16**). **Please answer the question within the same section where the question is asked and indicate your solution for each question in order**. \n",
    "\n",
    "Add your name on the following cell:"
   ]
  },
  {
   "cell_type": "markdown",
   "id": "d18ab4a5-e7af-4c5c-a169-8818e4c385f8",
   "metadata": {},
   "source": [
    "## YOUR NAME: "
   ]
  },
  {
   "cell_type": "markdown",
   "id": "7ceecbc3-f3a9-4a50-a52b-43a6bbeaca39",
   "metadata": {},
   "source": [
    "## 1. Loading and explore the Insurance dataset\n",
    "\n",
    "Load the `insurance.csv` file as a dataframe, and then answer the following questions:\n",
    "- **Q1**. How many data points in the dataset?\n",
    "- **Q2**. How many columns in the dataset?\n",
    "- **Q3**. How many categorical variables in the dataset? List the categorical variables\n",
    "- **Q4**. How many numerical variables in the dataset? List the numerical variables\n",
    "- **Q5**. Show the descriptive statistics of the numerical columns (e.g.: mean, standard deviation, minimum value, maximum value)"
   ]
  },
  {
   "cell_type": "markdown",
   "id": "78b61c22-6dc1-45c3-a57a-89eaa259ca96",
   "metadata": {},
   "source": [
    "## 2. Data preprocessing I\n",
    "In this section, you will need to preprocess the dataset so that you can use it to train a linear regression model"
   ]
  },
  {
   "cell_type": "markdown",
   "id": "58bf6435-8863-4a56-b290-d73fd5d3a231",
   "metadata": {},
   "source": [
    "### 2.1 Handling Missing Data\n",
    "- **Q6**. Show if the dataset has any missing data? If so, what is your approach on handling the missing data? "
   ]
  },
  {
   "cell_type": "markdown",
   "id": "c79c8c99-555c-4b7c-a5bc-d031861b6bdc",
   "metadata": {},
   "source": [
    "### 2.2 Categorical columns encoding\n",
    "- **Q7**. Linear Regression model requires all features and target to be numerical. Show how you transform each categorical columns into numerical columns. "
   ]
  },
  {
   "cell_type": "markdown",
   "id": "74543096-9b9b-4212-947c-a903dc600112",
   "metadata": {},
   "source": [
    "- **Q8**. After transforming the categorical data into numerical columns, show the new or updated dataframe"
   ]
  },
  {
   "cell_type": "markdown",
   "id": "53aba3a2-37b5-4fc9-b1b5-0bb033b8beba",
   "metadata": {},
   "source": [
    "### 2.3 Get Predictor Variables (X) and Target Variable (Y)"
   ]
  },
  {
   "cell_type": "markdown",
   "id": "7e380128-b5f5-4089-9fec-17a862cdfb13",
   "metadata": {},
   "source": [
    "- **Q9**. The modified dataframe from the previous section still contains all the predictor variables and target variable together. Show how get the predictor variables, `X`, and the target variable, `Y`. Set `X` and `Y` as numpy arrays. "
   ]
  },
  {
   "cell_type": "markdown",
   "id": "dbd839a4-7c20-451d-9e37-654e18da202c",
   "metadata": {},
   "source": [
    "### 2.4 Splitting dataset into training and testing sets."
   ]
  },
  {
   "cell_type": "markdown",
   "id": "add57bee-0394-4983-85e6-dcaa9e4f4e4c",
   "metadata": {},
   "source": [
    "- **Q10**. Split `X` and `Y` into training and testing sets. The training set should have 25% of the dataset. Show the size (shape) of `X_train`, `X_test`, `Y_train`, and `Y_test`."
   ]
  },
  {
   "cell_type": "markdown",
   "id": "baef9e1a-dfcb-4bb1-8ae4-917a96c6c427",
   "metadata": {},
   "source": [
    "## 3. Data preprocessing II\n",
    "Now, you continue preprocessing the preprocessed dataset from the previous section"
   ]
  },
  {
   "cell_type": "markdown",
   "id": "d5765cef-be4c-4c09-a61c-c41876989fa4",
   "metadata": {},
   "source": [
    "### 3.1 Standardize X_train"
   ]
  },
  {
   "cell_type": "markdown",
   "id": "b1d1c5d3-0aa7-457c-a643-af221115fb51",
   "metadata": {},
   "source": [
    "- **Q11**. Many learning algorithms including linear regression require input features on the same scale for optimal performance.  Show how you standardize `X_train` and save the standardized input features into a variable named `X_train_std`. "
   ]
  },
  {
   "cell_type": "markdown",
   "id": "5c393ca5-c2cb-40f3-9bd4-5c4e76ce2819",
   "metadata": {},
   "source": [
    "## 4. Train a Linear Regression model"
   ]
  },
  {
   "cell_type": "markdown",
   "id": "7cceff3f-5a02-4635-8a04-99c9470f45ce",
   "metadata": {},
   "source": [
    "Now you are ready to train a linear regression model. You can use the LinearRegressionGD class that we created from scrath, meaning you have to copy that class into this notebook, or use the class from scikit-learn. \n",
    "\n",
    "You can import the LinearRegression class from scikit learn as follows:\n",
    "\n",
    "```from sklearn.linear_model import LinearRegression ```\n",
    "\n",
    "Please refer to this documentation for more details [https://scikit-learn.org/stable/modules/generated/sklearn.linear_model.LinearRegression.html](https://scikit-learn.org/stable/modules/generated/sklearn.linear_model.LinearRegression.html)"
   ]
  },
  {
   "cell_type": "markdown",
   "id": "f537b299-3a9a-4235-85d7-413a11fd712c",
   "metadata": {},
   "source": [
    "- **Q12**. Train a LinearRegression model and then show the mean squared error of the model on the standardized training data."
   ]
  },
  {
   "cell_type": "markdown",
   "id": "56944259-c75d-44e0-b088-719ff1ca30fe",
   "metadata": {},
   "source": [
    "## 5. Evaluate the linear regression model"
   ]
  },
  {
   "cell_type": "markdown",
   "id": "62c11af2-a0b7-49b4-b8c0-05b03f5fd55b",
   "metadata": {},
   "source": [
    "After fitting (training) the linear regression model in the previous section, the next task is to evaluate its performance on the testing set. Since the model is trained using the standardized training data (`X_train_std`), you need to evaluate it using standardized testing set. "
   ]
  },
  {
   "cell_type": "markdown",
   "id": "6041a3cf-81cd-4ac0-9e43-eb50763fe582",
   "metadata": {},
   "source": [
    "- **Q13**. Show how you standardize the testing set based on the standardized training set (Hint: if you use `StandardScaler()`, pass `X_test` as an argument into the `transform` method of the `StandardScaler()` instance that you have fitted in Section 3.1). Save the standardized `X_test` as `X_test_std`"
   ]
  },
  {
   "cell_type": "markdown",
   "id": "25d6902e-d1f2-461f-be2a-2d6245506bd2",
   "metadata": {},
   "source": [
    "- **Q14**. Predict the target values of the `X_test_std` and show the mean squared error (MSE) of the testing set. Is the MSE of the testing set is better (lower) than the MSE of the training set?"
   ]
  },
  {
   "cell_type": "markdown",
   "id": "5929d013-3510-44ed-a724-54916fa3508c",
   "metadata": {},
   "source": [
    "## 6. Build another linear regression model using the `make_pipeline` function\n",
    "Now that you have fitted and evaluated the first model, its time to create another model. Basically you do not need to repeat Section 1-2. However, use the `make_pipeline` function to streamline Sections 4 and 5 into a single workflow."
   ]
  },
  {
   "cell_type": "markdown",
   "id": "3e46cc6c-89d5-4df6-96da-f619460a4c57",
   "metadata": {},
   "source": [
    "- **Q15**. Show how you create a pipeline model that streamline input feature standardization (e.g. using StandardScaler) and modeling (LinearRegression) into a single workflow. Train (fit) the the pipeline model using `X_train` and show the mean squared error (MSE) achieved by the pipeline model on `X_train`"
   ]
  },
  {
   "cell_type": "markdown",
   "id": "631d1c0b-9c9f-4ba3-8b66-523904d35103",
   "metadata": {},
   "source": [
    "- **Q16**. Evaluate the fitted pipeline using `X_test`. Show the mean squared error (MSE) achieved by the pipeline model on `X_test`."
   ]
  }
 ],
 "metadata": {
  "kernelspec": {
   "display_name": "Python 3 (ipykernel)",
   "language": "python",
   "name": "python3"
  },
  "language_info": {
   "codemirror_mode": {
    "name": "ipython",
    "version": 3
   },
   "file_extension": ".py",
   "mimetype": "text/x-python",
   "name": "python",
   "nbconvert_exporter": "python",
   "pygments_lexer": "ipython3",
   "version": "3.12.4"
  }
 },
 "nbformat": 4,
 "nbformat_minor": 5
}
