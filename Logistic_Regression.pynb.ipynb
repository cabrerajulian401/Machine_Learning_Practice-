{
 "cells": [
  {
   "cell_type": "code",
   "execution_count": 10,
   "id": "1cd8d1b3-e3b1-4e5d-a587-a0be5b5809e9",
   "metadata": {},
   "outputs": [],
   "source": [
    "import math\n",
    "import pandas as pd\n",
    "import numpy as np\n",
    "import seaborn as sns\n",
    "import matplotlib.pyplot as plt"
   ]
  },
  {
   "cell_type": "markdown",
   "id": "7b4ea7a9-0d33-4de3-9dfa-83d8ff9c3671",
   "metadata": {},
   "source": [
    "# Logistic Regression"
   ]
  },
  {
   "cell_type": "markdown",
   "id": "ea3a9fe0-471f-42e5-9c17-7c08a04de146",
   "metadata": {},
   "source": [
    "## Logistic Regression Class"
   ]
  },
  {
   "cell_type": "code",
   "execution_count": 52,
   "id": "0dfe198b-63d2-4798-be01-c30b1e30c1b7",
   "metadata": {},
   "outputs": [],
   "source": [
    "class LogisticRegression:\n",
    "    def __init__(self, eta=0.01, n_epochs = 100, random_state = 1):\n",
    "        self.eta = eta\n",
    "        self.n_epochs = n_epochs\n",
    "        self.random_state = random_state\n",
    "\n",
    "    def net_input(self, x):\n",
    "        \"\"\"Compute linear combination of x and weights\"\"\"\n",
    "        return np.dot(self.w_.T, x) + self.b_\n",
    "        \n",
    "    def sigmoid(self, z):\n",
    "        \"\"\"Compute logistic sigmoid activation\"\"\"\n",
    "        return 1.0/(1.0 + math.e ** (-z))\n",
    "\n",
    "    def predict(self, x):\n",
    "        \"\"\"Predict class label of x\"\"\"\n",
    "        z = self.net_input(x)\n",
    "        return np.where(self.sigmoid(z) >= 0.5, 1, 0) \n",
    "\n",
    "    def loss_function(self, a, y):\n",
    "        \"\"\"Compute the loss function\"\"\"\n",
    "        return -(y * (np.log(a)) + (1 - y) * (np.log(1 - a)))\n",
    "\n",
    "    def fit(self, X, Y):\n",
    "        \"\"\"\n",
    "        Training the logistic regression model with the given dataset using gradient descent.\n",
    "        \n",
    "        Parameters:\n",
    "        X : {array-like}, shape = [n_objects, m_features]\n",
    "            The m by n input feature matrix, where each row is a training example (object), and each column is a feature.\n",
    "            The total number of rows (m_examples) represents the total number of objects .\n",
    "            The total number of columns (n_features) represents the total number of predictor variables.\n",
    "        Y : {array-like}, shape = [n_objects, 1]\n",
    "            Target values or class labels.\n",
    "            i'th value of Y corresponds to i'th row in X \n",
    "        \"\"\"\n",
    "        # 1) intialize the weights and bias\n",
    "        rgen = np.random.RandomState(self.random_state) # create an instance of random number generator\n",
    "        self.m_features_ = X.shape[1] # get the number of predictor variables (features)\n",
    "        self.w_ = rgen.normal(loc=0.0, scale=0.01, size=self.m_features_) ## an instance attribute for the weights of the Perceptron\n",
    "        self.b_ = np.float64(0.) ## an instance attribute for the bias value\n",
    "\n",
    "        print(self.w_)\n",
    "        print(self.w_.T)\n",
    "        \n",
    "        # 2) gradient descent # Will have you visualize the cost function over time \n",
    "        self.costs_ = [] ## logging cost function value in each epoch\n",
    "        \n",
    "        for _ in range(self.n_epochs): # repeats it for epoch times \n",
    "            L = 0.0 ## for cost function value\n",
    "            dw = np.zeros(self.m_features_)\n",
    "            db = 0.0 \n",
    "            for x, y in zip(X, Y):\n",
    "                ## TODO : compute net input\n",
    "                z = self.net_input(x) \n",
    "                \n",
    "                ## TODO : compute the output of the sigmoid function\n",
    "                a = self.sigmoid(z) \n",
    "\n",
    "                ## TO for each sample, accumulate the cost function by adding the loss value of a and y to it\n",
    "                L += self.loss_function(a,y) \n",
    "\n",
    "                ## TODO compute the difference between a and y\n",
    "                dz = a - y \n",
    "                \n",
    "                ## TODO: accumulate dw and db\n",
    "                dw += x * dz\n",
    "                db += dz\n",
    "            \n",
    "            self.costs_.append(L/X.shape[0])\n",
    "            \n",
    "            ## TODO: compute the average of dw and db\n",
    "            dw = dw / X.shape[0]\n",
    "            db = db / X.shape[0]\n",
    "            \n",
    "            ## TODO: update weights\n",
    "            self.w_ = self.w_ - self.eta * dw \n",
    "            \n",
    "            ## TODO: update bias\n",
    "            self.b_ = self.b_ - self.eta * db \n",
    "        return self"
   ]
  },
  {
   "cell_type": "markdown",
   "id": "29ec9889-cc9c-4640-b1bd-81c46c1ae840",
   "metadata": {},
   "source": [
    "## Training a linear regression model on the Iris dataset"
   ]
  },
  {
   "cell_type": "code",
   "execution_count": 12,
   "id": "db046e0b-9a12-4e3f-9187-3df8c080b3f9",
   "metadata": {},
   "outputs": [
    {
     "data": {
      "text/html": [
       "<div>\n",
       "<style scoped>\n",
       "    .dataframe tbody tr th:only-of-type {\n",
       "        vertical-align: middle;\n",
       "    }\n",
       "\n",
       "    .dataframe tbody tr th {\n",
       "        vertical-align: top;\n",
       "    }\n",
       "\n",
       "    .dataframe thead th {\n",
       "        text-align: right;\n",
       "    }\n",
       "</style>\n",
       "<table border=\"1\" class=\"dataframe\">\n",
       "  <thead>\n",
       "    <tr style=\"text-align: right;\">\n",
       "      <th></th>\n",
       "      <th>sepal_length</th>\n",
       "      <th>sepal_width</th>\n",
       "      <th>petal_length</th>\n",
       "      <th>petal_width</th>\n",
       "      <th>species</th>\n",
       "    </tr>\n",
       "  </thead>\n",
       "  <tbody>\n",
       "    <tr>\n",
       "      <th>145</th>\n",
       "      <td>6.7</td>\n",
       "      <td>3.0</td>\n",
       "      <td>5.2</td>\n",
       "      <td>2.3</td>\n",
       "      <td>virginica</td>\n",
       "    </tr>\n",
       "    <tr>\n",
       "      <th>146</th>\n",
       "      <td>6.3</td>\n",
       "      <td>2.5</td>\n",
       "      <td>5.0</td>\n",
       "      <td>1.9</td>\n",
       "      <td>virginica</td>\n",
       "    </tr>\n",
       "    <tr>\n",
       "      <th>147</th>\n",
       "      <td>6.5</td>\n",
       "      <td>3.0</td>\n",
       "      <td>5.2</td>\n",
       "      <td>2.0</td>\n",
       "      <td>virginica</td>\n",
       "    </tr>\n",
       "    <tr>\n",
       "      <th>148</th>\n",
       "      <td>6.2</td>\n",
       "      <td>3.4</td>\n",
       "      <td>5.4</td>\n",
       "      <td>2.3</td>\n",
       "      <td>virginica</td>\n",
       "    </tr>\n",
       "    <tr>\n",
       "      <th>149</th>\n",
       "      <td>5.9</td>\n",
       "      <td>3.0</td>\n",
       "      <td>5.1</td>\n",
       "      <td>1.8</td>\n",
       "      <td>virginica</td>\n",
       "    </tr>\n",
       "  </tbody>\n",
       "</table>\n",
       "</div>"
      ],
      "text/plain": [
       "     sepal_length  sepal_width  petal_length  petal_width    species\n",
       "145           6.7          3.0           5.2          2.3  virginica\n",
       "146           6.3          2.5           5.0          1.9  virginica\n",
       "147           6.5          3.0           5.2          2.0  virginica\n",
       "148           6.2          3.4           5.4          2.3  virginica\n",
       "149           5.9          3.0           5.1          1.8  virginica"
      ]
     },
     "execution_count": 12,
     "metadata": {},
     "output_type": "execute_result"
    }
   ],
   "source": [
    "### Get original iris dataset\n",
    "iris = sns.load_dataset('iris')\n",
    "iris.tail()"
   ]
  },
  {
   "cell_type": "markdown",
   "id": "5fbdfcf0-e768-4961-b638-57f923b3a553",
   "metadata": {},
   "source": [
    "### Processing the iris data set for binary classification\n",
    "Originally, the iris dataset has 3 unique labels: Setosa, VersiColor, and Virginica. \n",
    "However, to show the binary classification, we only use two labels: Setosa and VersiColor. We will also use two features: petal_length and sepal_length"
   ]
  },
  {
   "cell_type": "code",
   "execution_count": 13,
   "id": "e889d2a7-eee6-495c-9109-df6c983eedc8",
   "metadata": {},
   "outputs": [
    {
     "data": {
      "text/html": [
       "<div>\n",
       "<style scoped>\n",
       "    .dataframe tbody tr th:only-of-type {\n",
       "        vertical-align: middle;\n",
       "    }\n",
       "\n",
       "    .dataframe tbody tr th {\n",
       "        vertical-align: top;\n",
       "    }\n",
       "\n",
       "    .dataframe thead th {\n",
       "        text-align: right;\n",
       "    }\n",
       "</style>\n",
       "<table border=\"1\" class=\"dataframe\">\n",
       "  <thead>\n",
       "    <tr style=\"text-align: right;\">\n",
       "      <th></th>\n",
       "      <th>sepal_length</th>\n",
       "      <th>petal_length</th>\n",
       "      <th>species</th>\n",
       "    </tr>\n",
       "  </thead>\n",
       "  <tbody>\n",
       "    <tr>\n",
       "      <th>95</th>\n",
       "      <td>5.7</td>\n",
       "      <td>4.2</td>\n",
       "      <td>versicolor</td>\n",
       "    </tr>\n",
       "    <tr>\n",
       "      <th>96</th>\n",
       "      <td>5.7</td>\n",
       "      <td>4.2</td>\n",
       "      <td>versicolor</td>\n",
       "    </tr>\n",
       "    <tr>\n",
       "      <th>97</th>\n",
       "      <td>6.2</td>\n",
       "      <td>4.3</td>\n",
       "      <td>versicolor</td>\n",
       "    </tr>\n",
       "    <tr>\n",
       "      <th>98</th>\n",
       "      <td>5.1</td>\n",
       "      <td>3.0</td>\n",
       "      <td>versicolor</td>\n",
       "    </tr>\n",
       "    <tr>\n",
       "      <th>99</th>\n",
       "      <td>5.7</td>\n",
       "      <td>4.1</td>\n",
       "      <td>versicolor</td>\n",
       "    </tr>\n",
       "  </tbody>\n",
       "</table>\n",
       "</div>"
      ],
      "text/plain": [
       "    sepal_length  petal_length     species\n",
       "95           5.7           4.2  versicolor\n",
       "96           5.7           4.2  versicolor\n",
       "97           6.2           4.3  versicolor\n",
       "98           5.1           3.0  versicolor\n",
       "99           5.7           4.1  versicolor"
      ]
     },
     "execution_count": 13,
     "metadata": {},
     "output_type": "execute_result"
    }
   ],
   "source": [
    "df = iris.iloc[0:100, [0, 2, 4]]\n",
    "df.tail()"
   ]
  },
  {
   "cell_type": "code",
   "execution_count": 14,
   "id": "508f861d-e2e8-49b9-b0a3-7067d4b01be0",
   "metadata": {},
   "outputs": [
    {
     "name": "stdout",
     "output_type": "stream",
     "text": [
      "class_mapping = {'setosa': 0, 'versicolor': 1}\n"
     ]
    },
    {
     "data": {
      "text/html": [
       "<div>\n",
       "<style scoped>\n",
       "    .dataframe tbody tr th:only-of-type {\n",
       "        vertical-align: middle;\n",
       "    }\n",
       "\n",
       "    .dataframe tbody tr th {\n",
       "        vertical-align: top;\n",
       "    }\n",
       "\n",
       "    .dataframe thead th {\n",
       "        text-align: right;\n",
       "    }\n",
       "</style>\n",
       "<table border=\"1\" class=\"dataframe\">\n",
       "  <thead>\n",
       "    <tr style=\"text-align: right;\">\n",
       "      <th></th>\n",
       "      <th>sepal_length</th>\n",
       "      <th>petal_length</th>\n",
       "      <th>species</th>\n",
       "    </tr>\n",
       "  </thead>\n",
       "  <tbody>\n",
       "    <tr>\n",
       "      <th>0</th>\n",
       "      <td>5.1</td>\n",
       "      <td>1.4</td>\n",
       "      <td>0</td>\n",
       "    </tr>\n",
       "    <tr>\n",
       "      <th>1</th>\n",
       "      <td>4.9</td>\n",
       "      <td>1.4</td>\n",
       "      <td>0</td>\n",
       "    </tr>\n",
       "    <tr>\n",
       "      <th>2</th>\n",
       "      <td>4.7</td>\n",
       "      <td>1.3</td>\n",
       "      <td>0</td>\n",
       "    </tr>\n",
       "    <tr>\n",
       "      <th>3</th>\n",
       "      <td>4.6</td>\n",
       "      <td>1.5</td>\n",
       "      <td>0</td>\n",
       "    </tr>\n",
       "    <tr>\n",
       "      <th>4</th>\n",
       "      <td>5.0</td>\n",
       "      <td>1.4</td>\n",
       "      <td>0</td>\n",
       "    </tr>\n",
       "    <tr>\n",
       "      <th>...</th>\n",
       "      <td>...</td>\n",
       "      <td>...</td>\n",
       "      <td>...</td>\n",
       "    </tr>\n",
       "    <tr>\n",
       "      <th>95</th>\n",
       "      <td>5.7</td>\n",
       "      <td>4.2</td>\n",
       "      <td>1</td>\n",
       "    </tr>\n",
       "    <tr>\n",
       "      <th>96</th>\n",
       "      <td>5.7</td>\n",
       "      <td>4.2</td>\n",
       "      <td>1</td>\n",
       "    </tr>\n",
       "    <tr>\n",
       "      <th>97</th>\n",
       "      <td>6.2</td>\n",
       "      <td>4.3</td>\n",
       "      <td>1</td>\n",
       "    </tr>\n",
       "    <tr>\n",
       "      <th>98</th>\n",
       "      <td>5.1</td>\n",
       "      <td>3.0</td>\n",
       "      <td>1</td>\n",
       "    </tr>\n",
       "    <tr>\n",
       "      <th>99</th>\n",
       "      <td>5.7</td>\n",
       "      <td>4.1</td>\n",
       "      <td>1</td>\n",
       "    </tr>\n",
       "  </tbody>\n",
       "</table>\n",
       "<p>100 rows × 3 columns</p>\n",
       "</div>"
      ],
      "text/plain": [
       "    sepal_length  petal_length  species\n",
       "0            5.1           1.4        0\n",
       "1            4.9           1.4        0\n",
       "2            4.7           1.3        0\n",
       "3            4.6           1.5        0\n",
       "4            5.0           1.4        0\n",
       "..           ...           ...      ...\n",
       "95           5.7           4.2        1\n",
       "96           5.7           4.2        1\n",
       "97           6.2           4.3        1\n",
       "98           5.1           3.0        1\n",
       "99           5.7           4.1        1\n",
       "\n",
       "[100 rows x 3 columns]"
      ]
     },
     "execution_count": 14,
     "metadata": {},
     "output_type": "execute_result"
    }
   ],
   "source": [
    "# create a mapping dict\n",
    "# to convert class labels from strings to integers\n",
    "class_mapping = {label: idx for idx, label in enumerate(np.unique(df['species']))}\n",
    "print(f'class_mapping = {class_mapping}')\n",
    "\n",
    "# convert class labels from strings to integers\n",
    "df['species'] = df['species'].map(class_mapping)\n",
    "df"
   ]
  },
  {
   "cell_type": "markdown",
   "id": "e750bcbb-63be-473a-baab-0d133407317d",
   "metadata": {},
   "source": [
    "### Splitting Dataset: Training and Testing Set"
   ]
  },
  {
   "cell_type": "code",
   "execution_count": 15,
   "id": "b5983e9d-8326-4835-91bb-9e2c54af46bf",
   "metadata": {},
   "outputs": [
    {
     "name": "stdout",
     "output_type": "stream",
     "text": [
      "Training data shape (X_train): (80, 2), (Y_train): (80,)\n",
      "Testing data shape (X_test): (20, 2), (Y_test): (20,)\n",
      "type(X_train): <class 'numpy.ndarray'>\n",
      "type(Y_train): <class 'numpy.ndarray'>\n",
      "type(X_test): <class 'numpy.ndarray'>\n",
      "type(Y_test): <class 'numpy.ndarray'>\n"
     ]
    }
   ],
   "source": [
    "from sklearn.model_selection import train_test_split\n",
    "\n",
    "# Split df into features (X) and labels (y)\n",
    "X = df[['sepal_length', 'petal_length']].values  # Features (first two columns)\n",
    "Y = df['species'].values  # Target label (last column)\n",
    "\n",
    "# Split the dataset into training and testing sets\n",
    "# test_size=0.2 means 80% training, 20% testing\n",
    "X_train, X_test, Y_train, Y_test = train_test_split(X, Y, test_size=0.2, random_state=42)\n",
    "\n",
    "# Display the shape of the splits\n",
    "print(f\"Training data shape (X_train): {X_train.shape}, (Y_train): {Y_train.shape}\")\n",
    "print(f\"Testing data shape (X_test): {X_test.shape}, (Y_test): {Y_test.shape}\")\n",
    "print(f'type(X_train): {type(X_train)}')\n",
    "print(f'type(Y_train): {type(Y_train)}')\n",
    "print(f'type(X_test): {type(X_test)}')\n",
    "print(f'type(Y_test): {type(Y_test)}')"
   ]
  },
  {
   "cell_type": "code",
   "execution_count": null,
   "id": "66ddae1f-c698-4835-8581-1f916269036a",
   "metadata": {},
   "outputs": [],
   "source": [
    "### Train the Logistic Regresion model"
   ]
  },
  {
   "cell_type": "code",
   "execution_count": 58,
   "id": "66ad66d7-6d17-4901-921c-1a8ba1287e27",
   "metadata": {},
   "outputs": [
    {
     "name": "stdout",
     "output_type": "stream",
     "text": [
      "[ 0.01624345 -0.00611756]\n",
      "[ 0.01624345 -0.00611756]\n"
     ]
    },
    {
     "data": {
      "text/plain": [
       "<__main__.LogisticRegression at 0x11cde6ea0>"
      ]
     },
     "execution_count": 58,
     "metadata": {},
     "output_type": "execute_result"
    }
   ],
   "source": [
    "## TODO: create an instance of logistic regression model\n",
    "lrm = LogisticRegression( eta = .01, n_epochs = 10000, random_state = 1 )\n",
    "\n",
    "## TODO: fit lrm using training data\n",
    "lrm.fit(X,Y)"
   ]
  },
  {
   "cell_type": "code",
   "execution_count": 59,
   "id": "42f86eaa-7f21-4ad7-bb14-c0bf3d3c4d44",
   "metadata": {},
   "outputs": [
    {
     "data": {
      "text/plain": [
       "Text(0.5, 1.0, 'Cost function value in each iteration')"
      ]
     },
     "execution_count": 59,
     "metadata": {},
     "output_type": "execute_result"
    },
    {
     "data": {
      "image/png": "[encoded data removed]",
      "text/plain": [
       "<Figure size 800x500 with 1 Axes>"
      ]
     },
     "metadata": {},
     "output_type": "display_data"
    }
   ],
   "source": [
    "plt.figure(figsize=(8,5))\n",
    "plt.plot(range(1, len(lrm.costs_) + 1), lrm.costs_, marker='o')\n",
    "plt.xlabel('Epochs')\n",
    "plt.ylabel('L(w,b)')\n",
    "plt.title('Cost function value in each iteration')"
   ]
  },
  {
   "cell_type": "markdown",
   "id": "a3766a05-7867-494e-953f-a264a2d84907",
   "metadata": {},
   "source": [
    "### Predict the class label of data points in testing set"
   ]
  },
  {
   "cell_type": "code",
   "execution_count": 60,
   "id": "b1f08856-7ebc-4348-ba22-38b3eb214d65",
   "metadata": {},
   "outputs": [
    {
     "name": "stdout",
     "output_type": "stream",
     "text": [
      "Accuracy of the testing set: 100.00%\n"
     ]
    }
   ],
   "source": [
    "from sklearn.metrics import accuracy_score\n",
    "\n",
    "Y_test_hats = []\n",
    "for xi in X_test:\n",
    "    ## TODO : predict xi's class label, \n",
    "    ## Hint : call the lrm.predict method\n",
    "    y_hat = lrm.predict(xi)\n",
    "    Y_test_hats.append(y_hat)\n",
    "\n",
    "# Calculate accuracy\n",
    "accuracy = accuracy_score(np.array(Y_test_hats), Y_test)\n",
    "print(f\"Accuracy of the testing set: {accuracy * 100:.2f}%\")  # Display accuracy"
   ]
  }
 ],
 "metadata": {
  "kernelspec": {
   "display_name": "Python 3 (ipykernel)",
   "language": "python",
   "name": "python3"
  },
  "language_info": {
   "codemirror_mode": {
    "name": "ipython",
    "version": 3
   },
   "file_extension": ".py",
   "mimetype": "text/x-python",
   "name": "python",
   "nbconvert_exporter": "python",
   "pygments_lexer": "ipython3",
   "version": "3.12.4"
  }
 },
 "nbformat": 4,
 "nbformat_minor": 5
}
