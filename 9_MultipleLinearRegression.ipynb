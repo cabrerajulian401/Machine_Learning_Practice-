{
 "cells": [
  {
   "cell_type": "code",
   "execution_count": 1,
   "id": "5c17feb9-dfb5-42c0-9792-898a85023c27",
   "metadata": {},
   "outputs": [],
   "source": [
    "import numpy as np\n",
    "import pandas as pd\n",
    "import seaborn as sns\n",
    "import matplotlib.pyplot as plt"
   ]
  },
  {
   "cell_type": "markdown",
   "id": "b42cb06e-d252-48a6-af93-16f1a0078d0a",
   "metadata": {},
   "source": [
    "# California Household Median Income Prediction"
   ]
  },
  {
   "cell_type": "markdown",
   "id": "ed09ac32-025b-4875-801d-820943aba6fd",
   "metadata": {},
   "source": [
    "The problem that we are going to solve here is that given a set of features that describe a house in California, our linear regression machine learning model must predict the median income for households within a block of houses. To train our machine learning model with California housing data, we will be using scikit-learn’s California dataset.\n",
    "\n",
    "In this dataset, each row describes a California town or suburb. There are 20640 rows and 8 attributes (features) with a target column (MedInc)."
   ]
  },
  {
   "cell_type": "code",
   "execution_count": 2,
   "id": "24e48637-497e-4bc8-abb1-53303a30b885",
   "metadata": {},
   "outputs": [
    {
     "data": {
      "text/html": [
       "<div>\n",
       "<style scoped>\n",
       "    .dataframe tbody tr th:only-of-type {\n",
       "        vertical-align: middle;\n",
       "    }\n",
       "\n",
       "    .dataframe tbody tr th {\n",
       "        vertical-align: top;\n",
       "    }\n",
       "\n",
       "    .dataframe thead th {\n",
       "        text-align: right;\n",
       "    }\n",
       "</style>\n",
       "<table border=\"1\" class=\"dataframe\">\n",
       "  <thead>\n",
       "    <tr style=\"text-align: right;\">\n",
       "      <th></th>\n",
       "      <th>MedInc</th>\n",
       "      <th>HouseAge</th>\n",
       "      <th>AveRooms</th>\n",
       "      <th>AveBedrms</th>\n",
       "      <th>Population</th>\n",
       "      <th>AveOccup</th>\n",
       "      <th>Latitude</th>\n",
       "      <th>Longitude</th>\n",
       "    </tr>\n",
       "  </thead>\n",
       "  <tbody>\n",
       "    <tr>\n",
       "      <th>0</th>\n",
       "      <td>8.3252</td>\n",
       "      <td>41.0</td>\n",
       "      <td>6.984127</td>\n",
       "      <td>1.023810</td>\n",
       "      <td>322.0</td>\n",
       "      <td>2.555556</td>\n",
       "      <td>37.88</td>\n",
       "      <td>-122.23</td>\n",
       "    </tr>\n",
       "    <tr>\n",
       "      <th>1</th>\n",
       "      <td>8.3014</td>\n",
       "      <td>21.0</td>\n",
       "      <td>6.238137</td>\n",
       "      <td>0.971880</td>\n",
       "      <td>2401.0</td>\n",
       "      <td>2.109842</td>\n",
       "      <td>37.86</td>\n",
       "      <td>-122.22</td>\n",
       "    </tr>\n",
       "    <tr>\n",
       "      <th>2</th>\n",
       "      <td>7.2574</td>\n",
       "      <td>52.0</td>\n",
       "      <td>8.288136</td>\n",
       "      <td>1.073446</td>\n",
       "      <td>496.0</td>\n",
       "      <td>2.802260</td>\n",
       "      <td>37.85</td>\n",
       "      <td>-122.24</td>\n",
       "    </tr>\n",
       "    <tr>\n",
       "      <th>3</th>\n",
       "      <td>5.6431</td>\n",
       "      <td>52.0</td>\n",
       "      <td>5.817352</td>\n",
       "      <td>1.073059</td>\n",
       "      <td>558.0</td>\n",
       "      <td>2.547945</td>\n",
       "      <td>37.85</td>\n",
       "      <td>-122.25</td>\n",
       "    </tr>\n",
       "    <tr>\n",
       "      <th>4</th>\n",
       "      <td>3.8462</td>\n",
       "      <td>52.0</td>\n",
       "      <td>6.281853</td>\n",
       "      <td>1.081081</td>\n",
       "      <td>565.0</td>\n",
       "      <td>2.181467</td>\n",
       "      <td>37.85</td>\n",
       "      <td>-122.25</td>\n",
       "    </tr>\n",
       "    <tr>\n",
       "      <th>5</th>\n",
       "      <td>4.0368</td>\n",
       "      <td>52.0</td>\n",
       "      <td>4.761658</td>\n",
       "      <td>1.103627</td>\n",
       "      <td>413.0</td>\n",
       "      <td>2.139896</td>\n",
       "      <td>37.85</td>\n",
       "      <td>-122.25</td>\n",
       "    </tr>\n",
       "    <tr>\n",
       "      <th>6</th>\n",
       "      <td>3.6591</td>\n",
       "      <td>52.0</td>\n",
       "      <td>4.931907</td>\n",
       "      <td>0.951362</td>\n",
       "      <td>1094.0</td>\n",
       "      <td>2.128405</td>\n",
       "      <td>37.84</td>\n",
       "      <td>-122.25</td>\n",
       "    </tr>\n",
       "    <tr>\n",
       "      <th>7</th>\n",
       "      <td>3.1200</td>\n",
       "      <td>52.0</td>\n",
       "      <td>4.797527</td>\n",
       "      <td>1.061824</td>\n",
       "      <td>1157.0</td>\n",
       "      <td>1.788253</td>\n",
       "      <td>37.84</td>\n",
       "      <td>-122.25</td>\n",
       "    </tr>\n",
       "    <tr>\n",
       "      <th>8</th>\n",
       "      <td>2.0804</td>\n",
       "      <td>42.0</td>\n",
       "      <td>4.294118</td>\n",
       "      <td>1.117647</td>\n",
       "      <td>1206.0</td>\n",
       "      <td>2.026891</td>\n",
       "      <td>37.84</td>\n",
       "      <td>-122.26</td>\n",
       "    </tr>\n",
       "    <tr>\n",
       "      <th>9</th>\n",
       "      <td>3.6912</td>\n",
       "      <td>52.0</td>\n",
       "      <td>4.970588</td>\n",
       "      <td>0.990196</td>\n",
       "      <td>1551.0</td>\n",
       "      <td>2.172269</td>\n",
       "      <td>37.84</td>\n",
       "      <td>-122.25</td>\n",
       "    </tr>\n",
       "  </tbody>\n",
       "</table>\n",
       "</div>"
      ],
      "text/plain": [
       "   MedInc  HouseAge  AveRooms  AveBedrms  Population  AveOccup  Latitude  \\\n",
       "0  8.3252      41.0  6.984127   1.023810       322.0  2.555556     37.88   \n",
       "1  8.3014      21.0  6.238137   0.971880      2401.0  2.109842     37.86   \n",
       "2  7.2574      52.0  8.288136   1.073446       496.0  2.802260     37.85   \n",
       "3  5.6431      52.0  5.817352   1.073059       558.0  2.547945     37.85   \n",
       "4  3.8462      52.0  6.281853   1.081081       565.0  2.181467     37.85   \n",
       "5  4.0368      52.0  4.761658   1.103627       413.0  2.139896     37.85   \n",
       "6  3.6591      52.0  4.931907   0.951362      1094.0  2.128405     37.84   \n",
       "7  3.1200      52.0  4.797527   1.061824      1157.0  1.788253     37.84   \n",
       "8  2.0804      42.0  4.294118   1.117647      1206.0  2.026891     37.84   \n",
       "9  3.6912      52.0  4.970588   0.990196      1551.0  2.172269     37.84   \n",
       "\n",
       "   Longitude  \n",
       "0    -122.23  \n",
       "1    -122.22  \n",
       "2    -122.24  \n",
       "3    -122.25  \n",
       "4    -122.25  \n",
       "5    -122.25  \n",
       "6    -122.25  \n",
       "7    -122.25  \n",
       "8    -122.26  \n",
       "9    -122.25  "
      ]
     },
     "execution_count": 2,
     "metadata": {},
     "output_type": "execute_result"
    }
   ],
   "source": [
    "# Importing the California Housing dataset\n",
    "from sklearn.datasets import fetch_california_housing\n",
    "housing = fetch_california_housing()\n",
    "df = pd.DataFrame(housing.data)\n",
    "df.columns = housing.feature_names\n",
    "df.head(10)"
   ]
  },
  {
   "cell_type": "markdown",
   "id": "9c2061c3-b1f0-4742-bcbb-440c6589c764",
   "metadata": {},
   "source": [
    "1. MedInc: Median income for households within a block of houses (measured in tens of thousands of US Dollars)\n",
    "2. HouseAge: Age of a house within a block; a lower number is a newer building\n",
    "3. AveRooms: Average number of rooms within a block\n",
    "4. AveBdrms: Average number of bedrooms within a block\n",
    "5. Population: Total number of people residing within a block. \n",
    "6. AveOccup: Average occupations of the people within a block (measured in scale value)\n",
    "7. Latitude: A measure of how far north a house is; a higher value is farther north\n",
    "8. Longitude: A measure of how far west a house is; a higher value is farther west "
   ]
  },
  {
   "cell_type": "code",
   "execution_count": 3,
   "id": "f43f5038-5565-404e-85be-b7b4de8aa5d8",
   "metadata": {},
   "outputs": [],
   "source": [
    "class LinearRegressionGD:\n",
    "    def __init__(self, eta=0.01, n_epochs = 100, random_state=1):\n",
    "        self.eta = eta\n",
    "        self.n_epochs = n_epochs\n",
    "        self.random_state = random_state\n",
    "\n",
    "    def net_input(self, X):\n",
    "        return np.dot(X, self.w_) + self.b_\n",
    "\n",
    "    def predict(self, X):\n",
    "        return self.net_input(X)\n",
    "\n",
    "    def fit(self, X, Y):\n",
    "        # 1) intialize the weights and bias\n",
    "        rgen = np.random.RandomState(self.random_state)\n",
    "        self.w_ = rgen.normal(loc=0.0, scale=0.01, size=X.shape[1])\n",
    "        self.b_ = np.array([0.])\n",
    "\n",
    "        # keeping track of the cost function value in each epoch\n",
    "        self.costs_ = []\n",
    "\n",
    "        #repeat for n_epochs\n",
    "        for i in range(self.n_epochs):\n",
    "            Y_hat = self.net_input(X)\n",
    "            errors = Y_hat - Y\n",
    "            self.costs_.append((errors**2).mean())\n",
    "            \n",
    "            dw = X.T.dot(errors)/X.shape[0]\n",
    "            self.w_ -= self.eta * dw\n",
    "            \n",
    "            db = np.sum(errors)/X.shape[0]\n",
    "            self.b_ -= self.eta * db\n",
    "            \n",
    "        return self"
   ]
  },
  {
   "cell_type": "markdown",
   "id": "7c9824a0-3e77-4a92-af7c-2eb689dc699f",
   "metadata": {},
   "source": [
    "## 1. Data preprocessing"
   ]
  },
  {
   "cell_type": "code",
   "execution_count": 4,
   "id": "4826efa9-17e9-4e50-9eaa-dd1a0899e64d",
   "metadata": {},
   "outputs": [
    {
     "name": "stdout",
     "output_type": "stream",
     "text": [
      "<class 'pandas.core.frame.DataFrame'>\n",
      "RangeIndex: 20640 entries, 0 to 20639\n",
      "Data columns (total 8 columns):\n",
      " #   Column      Non-Null Count  Dtype  \n",
      "---  ------      --------------  -----  \n",
      " 0   MedInc      20640 non-null  float64\n",
      " 1   HouseAge    20640 non-null  float64\n",
      " 2   AveRooms    20640 non-null  float64\n",
      " 3   AveBedrms   20640 non-null  float64\n",
      " 4   Population  20640 non-null  float64\n",
      " 5   AveOccup    20640 non-null  float64\n",
      " 6   Latitude    20640 non-null  float64\n",
      " 7   Longitude   20640 non-null  float64\n",
      "dtypes: float64(8)\n",
      "memory usage: 1.3 MB\n"
     ]
    }
   ],
   "source": [
    "df.info()"
   ]
  },
  {
   "cell_type": "code",
   "execution_count": 5,
   "id": "d1bb0f44-68ca-4381-9eea-e9c9fc76ff35",
   "metadata": {},
   "outputs": [
    {
     "data": {
      "text/plain": [
       "(20640, 8)"
      ]
     },
     "execution_count": 5,
     "metadata": {},
     "output_type": "execute_result"
    }
   ],
   "source": [
    "df.shape"
   ]
  },
  {
   "cell_type": "code",
   "execution_count": 6,
   "id": "28a7ef8f-6651-4c43-a3b0-7c88ca1812c6",
   "metadata": {},
   "outputs": [
    {
     "data": {
      "image/png": "[encoded data removed]",
      "text/plain": [
       "<Figure size 1200x1000 with 9 Axes>"
      ]
     },
     "metadata": {},
     "output_type": "display_data"
    }
   ],
   "source": [
    "df.hist(figsize=(12, 10), bins=30, edgecolor=\"black\")\n",
    "plt.subplots_adjust(hspace=0.7, wspace=0.4)"
   ]
  },
  {
   "cell_type": "code",
   "execution_count": 7,
   "id": "901d7880-051f-4ad1-8e00-1763ab4641d9",
   "metadata": {},
   "outputs": [
    {
     "data": {
      "text/plain": [
       "Index(['MedInc', 'HouseAge', 'AveRooms', 'AveBedrms', 'Population', 'AveOccup',\n",
       "       'Latitude', 'Longitude'],\n",
       "      dtype='object')"
      ]
     },
     "execution_count": 7,
     "metadata": {},
     "output_type": "execute_result"
    }
   ],
   "source": [
    "df.columns"
   ]
  },
  {
   "cell_type": "markdown",
   "id": "e9cd6731-94e2-456c-bd6a-e6cbf9fcb1bf",
   "metadata": {},
   "source": [
    "###  1.1 Check for missing data\n",
    "\n",
    "If there are missing data, drop the rows with missing data\n",
    "(Refer to our previous notebook 4_Data_Exploration_Part1.ipynb)"
   ]
  },
  {
   "cell_type": "code",
   "execution_count": 8,
   "id": "4f5901a4-133a-4a9a-a0fa-291dd01629e1",
   "metadata": {},
   "outputs": [
    {
     "data": {
      "text/plain": [
       "MedInc        0\n",
       "HouseAge      0\n",
       "AveRooms      0\n",
       "AveBedrms     0\n",
       "Population    0\n",
       "AveOccup      0\n",
       "Latitude      0\n",
       "Longitude     0\n",
       "dtype: int64"
      ]
     },
     "execution_count": 8,
     "metadata": {},
     "output_type": "execute_result"
    }
   ],
   "source": [
    "df.isnull().sum()"
   ]
  },
  {
   "cell_type": "markdown",
   "id": "4d2b252a-7325-4b2f-aa34-f368f167cc12",
   "metadata": {},
   "source": [
    "### 1.2 Get Predictor Variables (X) and Target Variable (Y)"
   ]
  },
  {
   "cell_type": "code",
   "execution_count": 9,
   "id": "a3ef8f94-b0b7-4d5d-a0d8-99870d585aad",
   "metadata": {},
   "outputs": [
    {
     "data": {
      "text/plain": [
       "(20640, 7)"
      ]
     },
     "execution_count": 9,
     "metadata": {},
     "output_type": "execute_result"
    }
   ],
   "source": [
    "## TODO get the predictor variables (features) and transform them to a numpy array\n",
    "## the predictor variables consist of all columns but 'MedInc'\n",
    "X = df[['HouseAge', 'AveRooms', 'AveBedrms', 'Population', 'AveOccup',\n",
    "       'Latitude', 'Longitude']].values \n",
    "X.shape"
   ]
  },
  {
   "cell_type": "code",
   "execution_count": 10,
   "id": "26231c92-8eac-4214-84b1-c60791e9a82c",
   "metadata": {},
   "outputs": [
    {
     "data": {
      "text/plain": [
       "(20640,)"
      ]
     },
     "execution_count": 10,
     "metadata": {},
     "output_type": "execute_result"
    }
   ],
   "source": [
    "## TODO get the target variable and transform it a one-dimension numpy array\n",
    "## 'MedInc' is the target variable \n",
    "Y = df['MedInc'].values\n",
    "Y.shape"
   ]
  },
  {
   "cell_type": "markdown",
   "id": "4a2d7cd8-e858-436a-a386-aacbbc8efdb9",
   "metadata": {},
   "source": [
    "### 1.3 Divide the dataset into training and testing set"
   ]
  },
  {
   "cell_type": "code",
   "execution_count": 11,
   "id": "8cfc8ad1-1ff8-4636-8200-690337cbf09f",
   "metadata": {},
   "outputs": [
    {
     "name": "stdout",
     "output_type": "stream",
     "text": [
      "(16512, 7)\n",
      "(4128, 7)\n"
     ]
    }
   ],
   "source": [
    "from sklearn.model_selection import train_test_split\n",
    "\n",
    "# TODO: divide X and Y into 80 % training set and 20 % testing set\n",
    "# Hint refer to our previous notebook 9_Linear_Regression.ipynb\n",
    "X_train, X_test, Y_train, Y_test = train_test_split(X,Y, test_size=0.2, random_state=42)\n",
    "\n",
    "print(X_train.shape)\n",
    "print(X_test.shape)"
   ]
  },
  {
   "cell_type": "markdown",
   "id": "771b5f0d-7b5a-450c-83d2-274eb6bb726b",
   "metadata": {},
   "source": [
    "### 1.4 Applying standard scalar on the dataset before using it to fit linear regression model"
   ]
  },
  {
   "cell_type": "code",
   "execution_count": 12,
   "id": "75481ccf-dc81-48e4-92be-527d4d3a5b33",
   "metadata": {},
   "outputs": [],
   "source": [
    "from sklearn.preprocessing import StandardScaler\n",
    "sc_x = StandardScaler()\n",
    "sc_y = StandardScaler()\n",
    "\n",
    "# TODO standardize X_train\n",
    "# Hint: use the fit_transform method of the sc_x instance\n",
    "X_train_std = sc_x.fit_transform(X_train)\n",
    "\n",
    "# TODO standardize X_test\n",
    "# Hint: use the transform method of the sc_x instance\n",
    "X_test_std = sc_x.fit_transform(X_test)\n",
    "\n",
    "# TODO standardize Y_train\n",
    "# use the fit_transform method of the sc_y instance\n",
    "# notice that the fit_transform method only accepts 2-d numpy array\n",
    "# hence you need pass Y_train.reshape((-1,1)) as its argument\n",
    "Y_train_std = sc_y.fit_transform(Y_train.reshape((-1,1)))\n",
    "\n",
    "# flatten Y_train_std back to 1-d array\n",
    "Y_train_std = Y_train_std.flatten()\n",
    "\n",
    "# TODO standardize Y_test\n",
    "# use the transform method of the sc_y instance\n",
    "# the transform  method only accepts 2-d numpy array\n",
    "# hence you need pass Y_test.reshape((-1,1)) as its argument\n",
    "Y_test_std = sc_y.transform(Y_test.reshape((-1,1)))\n",
    "\n",
    "# flatten Y_test_std back to 1-d array\n",
    "Y_test_std = Y_test_std.flatten()"
   ]
  },
  {
   "cell_type": "markdown",
   "id": "b5d42bbe-58f8-44ee-867c-b3bc84b59d7e",
   "metadata": {},
   "source": [
    "## 2. Train a Linear Regression Model"
   ]
  },
  {
   "cell_type": "code",
   "execution_count": 13,
   "id": "b5af5a98-65b5-4fe5-a595-40ccf179ad98",
   "metadata": {},
   "outputs": [],
   "source": [
    "# TODO: create an instance of the LinearRegressionGD class implemented above\n",
    "# set eta=0.1, n_epochs = 200, random_state=42\n",
    "lr = LinearRegressionGD(eta=.1,n_epochs=200, random_state=42)"
   ]
  },
  {
   "cell_type": "code",
   "execution_count": 14,
   "id": "0fe1b96f-c79f-44a2-a365-f46b376aa15a",
   "metadata": {},
   "outputs": [],
   "source": [
    "# TODO: train the model using X_train_std and Y_train_std\n",
    "# Hint: use the fit method of lr\n",
    "lr = lr.fit(X_train_std,Y_train_std)"
   ]
  },
  {
   "cell_type": "code",
   "execution_count": 15,
   "id": "1eb049bd-ca00-44a6-9242-f779977b398c",
   "metadata": {},
   "outputs": [
    {
     "data": {
      "image/png": "[encoded data removed]",
      "text/plain": [
       "<Figure size 640x480 with 1 Axes>"
      ]
     },
     "metadata": {},
     "output_type": "display_data"
    }
   ],
   "source": [
    "# plot the cost value (Mean Squared Error) over each iteration\n",
    "plt.plot(range(1, lr.n_epochs+1), lr.costs_)\n",
    "plt.ylabel('MSE')\n",
    "plt.xlabel('Epoch')\n",
    "plt.tight_layout()\n",
    "plt.show()"
   ]
  },
  {
   "cell_type": "code",
   "execution_count": 16,
   "id": "72446342-ef99-424a-9cc1-7b6ce1230503",
   "metadata": {},
   "outputs": [
    {
     "name": "stdout",
     "output_type": "stream",
     "text": [
      "The MSE of the training set at the last epoch is 0.3982532051682403\n"
     ]
    }
   ],
   "source": [
    "print(f'The MSE of the training set at the last epoch is {lr.costs_[-1]}')"
   ]
  },
  {
   "cell_type": "markdown",
   "id": "71ea0205-d527-4721-bdbf-8ec12be60369",
   "metadata": {},
   "source": [
    "## 3. Evaluate the performance of the model over the standardize testing set"
   ]
  },
  {
   "cell_type": "markdown",
   "id": "4d66dd5c-5a37-4f2f-b150-6dc128a37c79",
   "metadata": {},
   "source": [
    "Since we train the model using standardized training set, it only makes sense to test it using standardized testing set."
   ]
  },
  {
   "cell_type": "code",
   "execution_count": 17,
   "id": "ad65e277-8401-4598-96d3-ce1a8577b910",
   "metadata": {},
   "outputs": [
    {
     "name": "stdout",
     "output_type": "stream",
     "text": [
      "[-0.64981443 -0.24314359 -0.83279009 ...  1.28228549 -0.15904447\n",
      " -0.37681611]\n"
     ]
    }
   ],
   "source": [
    "# TODO: predict the output of X_test_std\n",
    "# Hint use the predict method\n",
    "Y_test_std_pred = lr.predict(X_test_std)\n",
    "\n",
    "print(Y_test_std_pred)"
   ]
  },
  {
   "cell_type": "code",
   "execution_count": 18,
   "id": "4a495e01-5ff4-40da-a324-85a59096d6dd",
   "metadata": {},
   "outputs": [
    {
     "name": "stdout",
     "output_type": "stream",
     "text": [
      "MSE test standardized: 0.41\n"
     ]
    }
   ],
   "source": [
    "# TODO measure the performance of the linear regression model\n",
    "# compute the mean squared error of the testing set\n",
    "from sklearn.metrics import mean_squared_error\n",
    "mse_test_std = mean_squared_error( Y_test_std_pred,Y_test_std)\n",
    "print(f'MSE test standardized: {mse_test_std:.2f}')"
   ]
  },
  {
   "cell_type": "markdown",
   "id": "bfc1fea1-9275-424d-818d-fc026e90eb6b",
   "metadata": {},
   "source": [
    "## 4. Predict the median income of a household"
   ]
  },
  {
   "cell_type": "markdown",
   "id": "9395dfc1-d57e-4e16-a4d0-19cc1b7b72d4",
   "metadata": {},
   "source": [
    "Suppose a household have the following information:\n",
    "- HouseAge = 22\n",
    "- AveRooms = 7\n",
    "- AveBedrooms = 2\n",
    "- Population = 2000\n",
    "- Average Occupation = 3\n",
    "- Latitude = 3.05\n",
    "- Longitude = -122.0\n",
    "\n",
    "Predict the median income of the household."
   ]
  },
  {
   "cell_type": "code",
   "execution_count": 19,
   "id": "8a13530e-7cfa-4c3d-ab4b-e89c5ea5b957",
   "metadata": {},
   "outputs": [],
   "source": [
    "features = np.array([[22, 7, 2, 2000, 3, 3.05, -122.0]])"
   ]
  },
  {
   "cell_type": "markdown",
   "id": "4ec8559a-cc63-407a-b036-529eb57c110b",
   "metadata": {},
   "source": [
    "Since the model is trained using standardized data, we need to standardize the features."
   ]
  },
  {
   "cell_type": "code",
   "execution_count": 20,
   "id": "25cc2c3e-faa4-4ca4-9962-56899fe9498a",
   "metadata": {},
   "outputs": [
    {
     "name": "stdout",
     "output_type": "stream",
     "text": [
      "[[ -0.54041762   0.57112579   1.48062657   0.51928757   0.01971874\n",
      "  -15.25753441  -1.24390955]]\n"
     ]
    }
   ],
   "source": [
    "# TODO standardize features \n",
    "# hint: use the transform method of the sc_x instance\n",
    "features_std = sc_x.transform(features)\n",
    "print(features_std)"
   ]
  },
  {
   "cell_type": "markdown",
   "id": "7eb27f65-9fc4-47e1-bec0-7221fd614244",
   "metadata": {},
   "source": [
    "Now we can predict the standardized features."
   ]
  },
  {
   "cell_type": "code",
   "execution_count": 21,
   "id": "5a859d98-d8a6-4c46-a330-42d5f314c41a",
   "metadata": {},
   "outputs": [
    {
     "name": "stdout",
     "output_type": "stream",
     "text": [
      "[8.84368475]\n"
     ]
    }
   ],
   "source": [
    "# TODO predict the median income of features_std\n",
    "# hint : use the predict method of the lr model\n",
    "median_income_std = lr.predict(features_std)\n",
    "print(median_income_std)"
   ]
  },
  {
   "cell_type": "markdown",
   "id": "90b91714-4610-488f-aae9-740d7e80f712",
   "metadata": {},
   "source": [
    "Notice that the predicted median income above is a standardized value.\n",
    "The model lr was also trained with standardized target.\n",
    "Thus, to get the real the predicted median income we need to get the inverse transform of the median_income_std. "
   ]
  },
  {
   "cell_type": "code",
   "execution_count": 22,
   "id": "cc19a74d-d27d-4b9e-9709-666679be8198",
   "metadata": {},
   "outputs": [],
   "source": [
    "# TODO compute the real predicted median income\n",
    "# Hint : use the inverse_transform method of the sc_y instance\n",
    "# the inverse_transform only accepts a 2-d numpy array as its argument\n",
    "# make sure to pass median_income_std.reshape((-1, 1))\n",
    "median_income = sc_y.inverse_transform(median_income_std.reshape((-1,1)))"
   ]
  },
  {
   "cell_type": "code",
   "execution_count": 23,
   "id": "aa705abc-d323-48e5-b111-7bda314abb76",
   "metadata": {},
   "outputs": [
    {
     "name": "stdout",
     "output_type": "stream",
     "text": [
      "Predicted median income for the given household is $20.72K\n"
     ]
    }
   ],
   "source": [
    "print(f'Predicted median income for the given household is ${median_income.flatten()[0]:.2f}K')"
   ]
  },
  {
   "cell_type": "markdown",
   "id": "3ce3805a-7ad2-4218-b66d-389451257caf",
   "metadata": {},
   "source": [
    "# 5. Challenge: build another linear regression model with less features"
   ]
  },
  {
   "cell_type": "markdown",
   "id": "b3a681f8-b745-4509-8d78-c5001fca4499",
   "metadata": {},
   "source": [
    "In this section, train another linear regression model (lr2) using less features. \n",
    "For example, exclude latitude and langitude features. "
   ]
  },
  {
   "cell_type": "markdown",
   "id": "0919c88f-80b0-4103-95f5-5c10c87457b9",
   "metadata": {},
   "source": [
    "## 5.1 Preprocess data for lr2 model\n",
    "1. Get `X` and `Y` from df\n",
    "2. Split `X` and `Y` in to the training and testing sets\n",
    "3. Standardize the training and testing sets"
   ]
  },
  {
   "cell_type": "code",
   "execution_count": 24,
   "id": "24e39f21-3e5f-4563-853e-099a5d436728",
   "metadata": {},
   "outputs": [
    {
     "name": "stdout",
     "output_type": "stream",
     "text": [
      "(16512, 5)\n",
      "(4128, 5)\n"
     ]
    }
   ],
   "source": [
    "X = df[['HouseAge', 'AveRooms', 'AveBedrms', 'Population', 'AveOccup']].values \n",
    "\n",
    "Y = df['MedInc'].values\n",
    "\n",
    "X_train, X_test, Y_train, Y_test = train_test_split(X,Y, test_size=0.2, random_state=42)\n",
    "\n",
    "print(X_train.shape)\n",
    "print(X_test.shape)"
   ]
  },
  {
   "cell_type": "code",
   "execution_count": null,
   "id": "b0039056-d578-4465-bc96-54754f8828ba",
   "metadata": {},
   "outputs": [],
   "source": []
  },
  {
   "cell_type": "code",
   "execution_count": null,
   "id": "32c50227-3c9c-4a67-b944-c2db40898bd8",
   "metadata": {},
   "outputs": [],
   "source": []
  },
  {
   "cell_type": "code",
   "execution_count": null,
   "id": "51f4d956-88d8-4dcc-ac25-bfa4e3d67d9f",
   "metadata": {},
   "outputs": [],
   "source": []
  },
  {
   "cell_type": "code",
   "execution_count": null,
   "id": "ac28dfe2-c654-4226-b740-7585d0e409cd",
   "metadata": {},
   "outputs": [],
   "source": []
  },
  {
   "cell_type": "code",
   "execution_count": 25,
   "id": "9f814f74-0d1f-4235-b283-c8141bdf7b92",
   "metadata": {},
   "outputs": [],
   "source": [
    "# TODO standardize X_train\n",
    "# Hint: use the fit_transform method of the sc_x instance\n",
    "X_train_std = sc_x.fit_transform(X_train)\n",
    "\n",
    "# TODO standardize X_test\n",
    "# Hint: use the transform method of the sc_x instance\n",
    "X_test_std = sc_x.fit_transform(X_test)\n",
    "\n",
    "# TODO standardize Y_train\n",
    "# use the fit_transform method of the sc_y instance\n",
    "# notice that the fit_transform method only accepts 2-d numpy array\n",
    "# hence you need pass Y_train.reshape((-1,1)) as its argument\n",
    "Y_train_std = sc_y.fit_transform(Y_train.reshape((-1,1)))\n",
    "\n",
    "# flatten Y_train_std back to 1-d array\n",
    "Y_train_std = Y_train_std.flatten()\n",
    "\n",
    "# TODO standardize Y_test\n",
    "# use the transform method of the sc_y instance\n",
    "# the transform  method only accepts 2-d numpy array\n",
    "# hence you need pass Y_test.reshape((-1,1)) as its argument\n",
    "Y_test_std = sc_y.transform(Y_test.reshape((-1,1)))\n",
    "\n",
    "# flatten Y_test_std back to 1-d array\n",
    "Y_test_std = Y_test_std.flatten()"
   ]
  },
  {
   "cell_type": "markdown",
   "id": "bc944ecd-52c7-4e26-82bf-ba81a46e32b3",
   "metadata": {},
   "source": [
    "## 5.2 Train lr2 model\n",
    "Compare the mean squared error (MSE) of the lr's and lr2's training set. Which one has better (lower) MSE?"
   ]
  },
  {
   "cell_type": "code",
   "execution_count": 26,
   "id": "d2401e0f-d61e-4e77-ad53-36b18dce8bc6",
   "metadata": {},
   "outputs": [
    {
     "name": "stdout",
     "output_type": "stream",
     "text": [
      "[-0.39728188 -0.34720181 -0.8588838  ...  1.11054279  0.142052\n",
      " -0.49965055]\n"
     ]
    }
   ],
   "source": [
    "lr2 = LinearRegressionGD(eta=.1,n_epochs=200, random_state=42)\n",
    "lr = lr.fit(X_train_std,Y_train_std)\n",
    "\n",
    "# TODO: predict the output of X_test_std\n",
    "# Hint use the predict method\n",
    "Y_test_std_pred = lr.predict(X_test_std)\n",
    "\n",
    "print(Y_test_std_pred)\n",
    "\n"
   ]
  },
  {
   "cell_type": "code",
   "execution_count": null,
   "id": "435cdac6-e147-42b1-af12-c6ddda7abce2",
   "metadata": {},
   "outputs": [],
   "source": []
  },
  {
   "cell_type": "markdown",
   "id": "4c096870-6270-4726-9ca6-3b2135dc1471",
   "metadata": {},
   "source": [
    "## 5.3 Evaluate the performance of the trained model over testing set\n",
    "Compare the mean squared error (MSE) of the lr's and lr2's testing set. Which one has better (lower) MSE?"
   ]
  },
  {
   "cell_type": "code",
   "execution_count": null,
   "id": "f5224cec-6cb6-4f44-87b5-2b3284762bf8",
   "metadata": {},
   "outputs": [],
   "source": []
  },
  {
   "cell_type": "code",
   "execution_count": 27,
   "id": "a7b94883-1978-44cb-8e2d-7fe55c2e4850",
   "metadata": {},
   "outputs": [
    {
     "name": "stdout",
     "output_type": "stream",
     "text": [
      "MSE test standardized: 0.50\n"
     ]
    }
   ],
   "source": [
    "# TODO measure the performance of the linear regression model\n",
    "# compute the mean squared error of the testing set\n",
    "from sklearn.metrics import mean_squared_error\n",
    "mse_test_std = mean_squared_error( Y_test_std_pred,Y_test_std)\n",
    "print(f'MSE test standardized: {mse_test_std:.2f}')\n",
    "\n"
   ]
  },
  {
   "cell_type": "markdown",
   "id": "adc52e84-6ba3-4683-a62e-81eab09ad07c",
   "metadata": {},
   "source": [
    "### I concluded that the second model(Lr2) has a higher Mean Squared Error than the second Model - .50 > .41. \n",
    "\n",
    "#### Therefore the first model is more accurate because it has the 2 additional predictor variables"
   ]
  }
 ],
 "metadata": {
  "kernelspec": {
   "display_name": "Python 3 (ipykernel)",
   "language": "python",
   "name": "python3"
  },
  "language_info": {
   "codemirror_mode": {
    "name": "ipython",
    "version": 3
   },
   "file_extension": ".py",
   "mimetype": "text/x-python",
   "name": "python",
   "nbconvert_exporter": "python",
   "pygments_lexer": "ipython3",
   "version": "3.12.4"
  }
 },
 "nbformat": 4,
 "nbformat_minor": 5
}
